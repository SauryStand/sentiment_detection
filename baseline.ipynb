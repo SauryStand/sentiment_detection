{
 "cells": [
  {
   "cell_type": "code",
   "execution_count": 1,
   "metadata": {
    "_cell_guid": "ceee4bc5-5a14-c005-2c2a-7c879c3fa0ec"
   },
   "outputs": [],
   "source": [
    "import sklearn\n",
    "import matplotlib.pyplot as plt\n",
    "%matplotlib inline\n",
    "import pandas\n",
    "from sklearn.model_selection import train_test_split\n",
    "import numpy"
   ]
  },
  {
   "cell_type": "code",
   "execution_count": null,
   "metadata": {
    "_cell_guid": "17a6b9e2-26da-b492-2107-73611e20d9c4"
   },
   "outputs": [],
   "source": [
    "Tweet= pandas.read_csv(\"../input/twitter-airline-sentiment/Tweets.csv\")\n",
    "Tweet.head()"
   ]
  },
  {
   "cell_type": "code",
   "execution_count": null,
   "metadata": {
    "_cell_guid": "405b2e80-e9a1-4a93-f0ba-9cbe3bea13b1"
   },
   "outputs": [],
   "source": [
    "# (len(Tweet)-Tweet.count())/len(Tweet)\n",
    "\n",
    "# Mood_count=Tweet['airline_sentiment'].value_counts()\n",
    "\n",
    "# Index = [1,2,3]\n",
    "# plt.bar(Index,Mood_count)\n",
    "# plt.xticks(Index,['negative','neutral','positive'],rotation=45)\n",
    "# plt.ylabel('Mood Count')\n",
    "# plt.xlabel('Mood')\n",
    "# plt.title('Count of Moods')\n",
    "\n",
    "# Tweet['airline'].value_counts()\n",
    "\n",
    "# def plot_sub_sentiment(Airline):\n",
    "#     df=Tweet[Tweet['airline']==Airline]\n",
    "#     count=df['airline_sentiment'].value_counts()\n",
    "#     Index = [1,2,3]\n",
    "#     plt.bar(Index,count)\n",
    "#     plt.xticks(Index,['negative','neutral','positive'])\n",
    "#     plt.ylabel('Mood Count')\n",
    "#     plt.xlabel('Mood')\n",
    "#     plt.title('Count of Moods of '+Airline)\n",
    "# plt.figure(1,figsize=(12, 12))\n",
    "# plt.subplot(231)\n",
    "# plot_sub_sentiment('US Airways')\n",
    "# plt.subplot(232)\n",
    "# plot_sub_sentiment('United')\n",
    "# plt.subplot(233)\n",
    "# plot_sub_sentiment('American')\n",
    "# plt.subplot(234)\n",
    "# plot_sub_sentiment('Southwest')\n",
    "# plt.subplot(235)\n",
    "# plot_sub_sentiment('Delta')\n",
    "# plt.subplot(236)\n",
    "# plot_sub_sentiment('Virgin America')\n",
    "\n",
    "# From the above plots one can find that the distribution of moods for the first three airlines are always skewed toward negative moods. On contrary, the moods are distributed more balanced with the later three airline companies. \n",
    "\n",
    "# NR_Count=dict(Tweet['negativereason'].value_counts(sort=False))\n",
    "\n",
    "# def NR_Count(Airline):\n",
    "#     if Airline=='All':\n",
    "#         df=Tweet\n",
    "#     else:\n",
    "#         df=Tweet[Tweet['airline']==Airline]\n",
    "#     count=dict(df['negativereason'].value_counts())\n",
    "#     Unique_reason=list(Tweet['negativereason'].unique())\n",
    "#     Unique_reason=[x for x in Unique_reason if str(x) != 'nan']\n",
    "#     Reason_frame=pandas.DataFrame({'Reasons':Unique_reason})\n",
    "#     Reason_frame['count']=Reason_frame['Reasons'].apply(lambda x: count[x])\n",
    "#     return Reason_frame\n",
    "\n",
    "# def plot_reason(Airline):\n",
    "#     df=NR_Count(Airline)\n",
    "#     count=df['count']\n",
    "#     Index = range(1,(len(df)+1))\n",
    "#     plt.bar(Index,count)\n",
    "#     plt.xticks(Index,df['Reasons'],rotation=90)\n",
    "#     plt.ylabel('Count')\n",
    "#     plt.xlabel('Reason')\n",
    "#     plt.title('Count of Reasons for '+Airline)\n",
    "\n",
    "# plot_reason('All')\n",
    "\n",
    "# plot_reason('US Airways')\n",
    "\n",
    "# plot_reason('United')\n",
    "\n",
    "# plot_reason('American')\n",
    "\n",
    "# plot_reason('Southwest')\n",
    "\n",
    "# plot_reason('Delta')\n",
    "\n",
    "# plot_reason('Virgin America')\n",
    "\n",
    "\n",
    "\n",
    "# ### D: Word Cloud for the negative Tweets\n",
    "\n",
    "# from wordcloud import WordCloud,STOPWORDS\n",
    "\n",
    "# df=Tweet[Tweet['airline_sentiment']=='negative']\n",
    "# words = ' '.join(df['text'])\n",
    "# cleaned_word = \" \".join([word for word in words.split()\n",
    "#                             if 'http' not in word\n",
    "#                                 and not word.startswith('@')\n",
    "#                                 and word != 'RT'\n",
    "#                             ])\n",
    "\n",
    "# wordcloud = WordCloud(stopwords=STOPWORDS,\n",
    "#                       background_color='black',\n",
    "#                       width=3000,\n",
    "#                       height=2500\n",
    "#                      ).generate(cleaned_word)\n",
    "\n",
    "# plt.figure(1,figsize=(12, 12))\n",
    "# plt.imshow(wordcloud)\n",
    "# plt.axis('off')\n",
    "# plt.show()\n",
    "\n",
    "# **We can find that the Tweets with negative moods are frequently involved some words like cancelled, flight ,customer or hour. People might guess that customer tends to complain when they are waiting for the delayed flights.**\n",
    "\n",
    "# ### E: Preprocess data for classification\n",
    "\n",
    "# **Our data exploration ends up at here. The next step will be preprocess the data in order to make the learning process more smooth.**\n",
    "\n",
    "\n",
    "\n",
    "#\n",
    "\n"
   ]
  },
  {
   "cell_type": "markdown",
   "metadata": {
    "_cell_guid": "7efe1456-8808-112b-4c7b-20d2259186cf"
   },
   "source": []
  },
  {
   "cell_type": "code",
   "execution_count": null,
   "metadata": {
    "_cell_guid": "964886df-3b7b-4426-48bc-5e3995c72042"
   },
   "outputs": [],
   "source": [
    "import re\n",
    "import nltk\n",
    "from nltk.corpus import stopwords\n",
    "# 数据清洗\n",
    "\n",
    "def tweet_to_words(raw_tweet):\n",
    "    letters_only = re.sub(\"[^a-zA-Z]\", \" \",raw_tweet) \n",
    "    words = letters_only.lower().split()                             \n",
    "    stops = set(stopwords.words(\"english\"))                  \n",
    "    meaningful_words = [w for w in words if not w in stops] \n",
    "    return( \" \".join( meaningful_words )) \n",
    "\n",
    "def clean_tweet_length(raw_tweet):\n",
    "    letters_only = re.sub(\"[^a-zA-Z]\", \" \",raw_tweet) \n",
    "    words = letters_only.lower().split()                             \n",
    "    stops = set(stopwords.words(\"english\"))                  \n",
    "    meaningful_words = [w for w in words if not w in stops] \n",
    "    return(len(meaningful_words)) \n",
    "# 将标签转换成数字\n",
    "Tweet['sentiment']=Tweet['airline_sentiment'].apply(lambda x: 0 if x=='negative' else 1)\n",
    "Tweet['clean_tweet']=Tweet['text'].apply(lambda x: tweet_to_words(x))\n",
    "Tweet['Tweet_length']=Tweet['text'].apply(lambda x: clean_tweet_length(x))\n"
   ]
  },
  {
   "cell_type": "code",
   "execution_count": 3,
   "metadata": {
    "_cell_guid": "d3321d7e-3c68-a64b-8312-aebab5e8ba00"
   },
   "outputs": [],
   "source": [
    "import pandas as pd\n",
    "p_df2 = pd.read_csv('p_df2.csv')\n",
    "\n"
   ]
  },
  {
   "cell_type": "code",
   "execution_count": null,
   "metadata": {},
   "outputs": [],
   "source": []
  },
  {
   "cell_type": "code",
   "execution_count": 4,
   "metadata": {},
   "outputs": [],
   "source": [
    "#train,test = train_test_split(Tweet,test_size=0.2,random_state=42)\n",
    "train,test = train_test_split(p_df2,test_size=0.2,random_state=42)"
   ]
  },
  {
   "cell_type": "code",
   "execution_count": 5,
   "metadata": {},
   "outputs": [],
   "source": [
    "train_clean_tweet = train.text_cleaned.tolist()\n",
    "test_clean_tweet = test.text_cleaned.tolist()"
   ]
  },
  {
   "cell_type": "code",
   "execution_count": 7,
   "metadata": {},
   "outputs": [
    {
     "data": {
      "text/html": [
       "<div>\n",
       "<style scoped>\n",
       "    .dataframe tbody tr th:only-of-type {\n",
       "        vertical-align: middle;\n",
       "    }\n",
       "\n",
       "    .dataframe tbody tr th {\n",
       "        vertical-align: top;\n",
       "    }\n",
       "\n",
       "    .dataframe thead th {\n",
       "        text-align: right;\n",
       "    }\n",
       "</style>\n",
       "<table border=\"1\" class=\"dataframe\">\n",
       "  <thead>\n",
       "    <tr style=\"text-align: right;\">\n",
       "      <th></th>\n",
       "      <th>Unnamed: 0</th>\n",
       "      <th>target</th>\n",
       "      <th>ids</th>\n",
       "      <th>date</th>\n",
       "      <th>flag</th>\n",
       "      <th>user</th>\n",
       "      <th>text</th>\n",
       "      <th>text_cleaned</th>\n",
       "      <th>words</th>\n",
       "      <th>word_length</th>\n",
       "      <th>c2id</th>\n",
       "    </tr>\n",
       "  </thead>\n",
       "  <tbody>\n",
       "    <tr>\n",
       "      <td>539763</td>\n",
       "      <td>755727</td>\n",
       "      <td>0</td>\n",
       "      <td>2288425922</td>\n",
       "      <td>Mon Jun 22 19:08:48 PDT 2009</td>\n",
       "      <td>NO_QUERY</td>\n",
       "      <td>mariantoinett</td>\n",
       "      <td>@jnicole80  going away party   I just thought ...</td>\n",
       "      <td>jnicole going away party thought moving one ho...</td>\n",
       "      <td>[302915, 9, 128, 185, 143, 600, 13, 123, 101, ...</td>\n",
       "      <td>14</td>\n",
       "      <td>0</td>\n",
       "    </tr>\n",
       "    <tr>\n",
       "      <td>159816</td>\n",
       "      <td>224031</td>\n",
       "      <td>0</td>\n",
       "      <td>1977327140</td>\n",
       "      <td>Sat May 30 20:42:31 PDT 2009</td>\n",
       "      <td>NO_QUERY</td>\n",
       "      <td>OneOfTheRobs</td>\n",
       "      <td>@KristinaDeFonte I'm so sorry, I just got home...</td>\n",
       "      <td>kristinadefonte sorry got home like minutes ag...</td>\n",
       "      <td>[214481, 57, 6, 25, 4, 418, 314, 17, 235, 51, ...</td>\n",
       "      <td>14</td>\n",
       "      <td>0</td>\n",
       "    </tr>\n",
       "    <tr>\n",
       "      <td>11317</td>\n",
       "      <td>15750</td>\n",
       "      <td>0</td>\n",
       "      <td>1554487781</td>\n",
       "      <td>Sat Apr 18 17:07:53 PDT 2009</td>\n",
       "      <td>NO_QUERY</td>\n",
       "      <td>aferomckinney</td>\n",
       "      <td>@allegromoderato Sounds like a great idea! I n...</td>\n",
       "      <td>allegromoderato sounds like great idea need ge...</td>\n",
       "      <td>[181304, 212, 4, 31, 329, 28, 3, 9012, 1076, 7...</td>\n",
       "      <td>14</td>\n",
       "      <td>0</td>\n",
       "    </tr>\n",
       "    <tr>\n",
       "      <td>129371</td>\n",
       "      <td>181133</td>\n",
       "      <td>0</td>\n",
       "      <td>1966765733</td>\n",
       "      <td>Fri May 29 18:21:35 PDT 2009</td>\n",
       "      <td>NO_QUERY</td>\n",
       "      <td>tokyofresh</td>\n",
       "      <td>@vickitHU becuz jose is nasty and @chicitydane...</td>\n",
       "      <td>vickithu becuz jose nasty chicitydane payin mi...</td>\n",
       "      <td>[123378, 6313, 4541, 1614, 123379, 16370, 171,...</td>\n",
       "      <td>13</td>\n",
       "      <td>0</td>\n",
       "    </tr>\n",
       "    <tr>\n",
       "      <td>1041416</td>\n",
       "      <td>1461162</td>\n",
       "      <td>4</td>\n",
       "      <td>2063908495</td>\n",
       "      <td>Sun Jun 07 04:32:34 PDT 2009</td>\n",
       "      <td>NO_QUERY</td>\n",
       "      <td>MeganAlqueza</td>\n",
       "      <td>YAY  Back home from the mall. man, I'm tired</td>\n",
       "      <td>yay back home mall man tired</td>\n",
       "      <td>[129, 14, 25, 1082, 109, 105]</td>\n",
       "      <td>6</td>\n",
       "      <td>1</td>\n",
       "    </tr>\n",
       "  </tbody>\n",
       "</table>\n",
       "</div>"
      ],
      "text/plain": [
       "         Unnamed: 0  target         ids                          date  \\\n",
       "539763       755727       0  2288425922  Mon Jun 22 19:08:48 PDT 2009   \n",
       "159816       224031       0  1977327140  Sat May 30 20:42:31 PDT 2009   \n",
       "11317         15750       0  1554487781  Sat Apr 18 17:07:53 PDT 2009   \n",
       "129371       181133       0  1966765733  Fri May 29 18:21:35 PDT 2009   \n",
       "1041416     1461162       4  2063908495  Sun Jun 07 04:32:34 PDT 2009   \n",
       "\n",
       "             flag           user  \\\n",
       "539763   NO_QUERY  mariantoinett   \n",
       "159816   NO_QUERY   OneOfTheRobs   \n",
       "11317    NO_QUERY  aferomckinney   \n",
       "129371   NO_QUERY     tokyofresh   \n",
       "1041416  NO_QUERY   MeganAlqueza   \n",
       "\n",
       "                                                      text  \\\n",
       "539763   @jnicole80  going away party   I just thought ...   \n",
       "159816   @KristinaDeFonte I'm so sorry, I just got home...   \n",
       "11317    @allegromoderato Sounds like a great idea! I n...   \n",
       "129371   @vickitHU becuz jose is nasty and @chicitydane...   \n",
       "1041416      YAY  Back home from the mall. man, I'm tired    \n",
       "\n",
       "                                              text_cleaned  \\\n",
       "539763   jnicole going away party thought moving one ho...   \n",
       "159816   kristinadefonte sorry got home like minutes ag...   \n",
       "11317    allegromoderato sounds like great idea need ge...   \n",
       "129371   vickithu becuz jose nasty chicitydane payin mi...   \n",
       "1041416                      yay back home mall man tired    \n",
       "\n",
       "                                                     words  word_length  c2id  \n",
       "539763   [302915, 9, 128, 185, 143, 600, 13, 123, 101, ...           14     0  \n",
       "159816   [214481, 57, 6, 25, 4, 418, 314, 17, 235, 51, ...           14     0  \n",
       "11317    [181304, 212, 4, 31, 329, 28, 3, 9012, 1076, 7...           14     0  \n",
       "129371   [123378, 6313, 4541, 1614, 123379, 16370, 171,...           13     0  \n",
       "1041416                      [129, 14, 25, 1082, 109, 105]            6     1  "
      ]
     },
     "execution_count": 7,
     "metadata": {},
     "output_type": "execute_result"
    }
   ],
   "source": [
    "test.head()\n",
    "#(0 = negative, 2 = neutral, 4 = positive)"
   ]
  },
  {
   "cell_type": "markdown",
   "metadata": {
    "_cell_guid": "71718f91-ec73-de31-7dbe-f07444d435f1"
   },
   "source": []
  },
  {
   "cell_type": "code",
   "execution_count": null,
   "metadata": {
    "_cell_guid": "4813043f-73fb-3474-f7f6-18b45f3543fd"
   },
   "outputs": [],
   "source": [
    "# 转换成list，方便特征提取\n",
    "train_clean_tweet=[]\n",
    "for tweet in train['clean_tweet']:\n",
    "    train_clean_tweet.append(tweet)\n",
    "test_clean_tweet=[]\n",
    "for tweet in test['clean_tweet']:\n",
    "    test_clean_tweet.append(tweet)"
   ]
  },
  {
   "cell_type": "markdown",
   "metadata": {},
   "source": [
    "[](http://)特征提取：参考文档：https://scikit-learn.org/stable/modules/feature_extraction.html#text-feature-extraction"
   ]
  },
  {
   "cell_type": "markdown",
   "metadata": {},
   "source": []
  },
  {
   "cell_type": "code",
   "execution_count": 8,
   "metadata": {
    "_cell_guid": "3e2be258-a9a9-9415-3d51-58f32413247e"
   },
   "outputs": [],
   "source": [
    "from sklearn.feature_extraction.text import CountVectorizer\n",
    "v = CountVectorizer(analyzer = \"word\")\n",
    "train_features= v.fit_transform(train_clean_tweet)\n",
    "test_features=v.transform(test_clean_tweet)"
   ]
  },
  {
   "cell_type": "code",
   "execution_count": 110,
   "metadata": {},
   "outputs": [
    {
     "data": {
      "text/plain": [
       "<911870x414191 sparse matrix of type '<class 'numpy.int64'>'\n",
       "\twith 8065030 stored elements in Compressed Sparse Row format>"
      ]
     },
     "execution_count": 110,
     "metadata": {},
     "output_type": "execute_result"
    }
   ],
   "source": [
    "train_features"
   ]
  },
  {
   "cell_type": "code",
   "execution_count": null,
   "metadata": {},
   "outputs": [],
   "source": []
  },
  {
   "cell_type": "code",
   "execution_count": 212,
   "metadata": {
    "_cell_guid": "5752b349-7f4f-aa5e-9a07-c577e475d3a4"
   },
   "outputs": [],
   "source": [
    "from sklearn.linear_model import LogisticRegression\n",
    "from sklearn.neighbors import KNeighborsClassifier\n",
    "from sklearn.svm import SVC, LinearSVC, NuSVC\n",
    "from sklearn.tree import DecisionTreeClassifier\n",
    "from sklearn.ensemble import RandomForestClassifier, AdaBoostClassifier, GradientBoostingClassifier\n",
    "from sklearn.naive_bayes import GaussianNB\n",
    "from sklearn.discriminant_analysis import LinearDiscriminantAnalysis\n",
    "from sklearn.discriminant_analysis import QuadraticDiscriminantAnalysis\n",
    "from sklearn.metrics import accuracy_score\n",
    "from xgboost import XGBClassifier\n",
    "from sklearn.metrics import accuracy_score\n",
    "from sklearn.neural_network import MLPClassifier\n",
    "from sklearn.ensemble import GradientBoostingClassifier\n",
    "from sklearn.discriminant_analysis import LinearDiscriminantAnalysis\n",
    "import matplotlib.pyplot as plt\n",
    "from itertools import cycle\n",
    "\n",
    "from sklearn import svm, datasets\n",
    "from sklearn.metrics import roc_curve, auc\n",
    "from sklearn.model_selection import train_test_split\n",
    "from sklearn.preprocessing import label_binarize\n",
    "from sklearn.multiclass import OneVsRestClassifier\n",
    "from scipy import interp\n",
    "from sklearn.metrics import roc_auc_score\n",
    "from sklearn.metrics import classification_report"
   ]
  },
  {
   "cell_type": "code",
   "execution_count": 10,
   "metadata": {
    "_cell_guid": "9c491112-34ec-e23f-8301-bf5491ef7416"
   },
   "outputs": [],
   "source": [
    "Classifiers = [\n",
    "    LogisticRegression(C=0.000000001,solver='liblinear',max_iter=200),\n",
    "    KNeighborsClassifier(3),\n",
    "    SVC(kernel=\"rbf\", C=0.025, probability=True),\n",
    "    DecisionTreeClassifier(),\n",
    "    RandomForestClassifier(n_estimators=200),\n",
    "    AdaBoostClassifier(),\n",
    "    GaussianNB(),\n",
    "    XGBClassifier(),\n",
    "    MLPClassifier(solver='sgd', alpha=1e-5,\n",
    "       hidden_layer_sizes=(5, 2), random_state=1, max_iter=500),\n",
    "    GradientBoostingClassifier(random_state=0)\n",
    "    \n",
    "]#gpu不能一次性加载这么多模型兵训练"
   ]
  },
  {
   "cell_type": "code",
   "execution_count": 16,
   "metadata": {},
   "outputs": [],
   "source": [
    "#dense_features=train_features.toarray()\n",
    "#dense_test= test_features.toarray()\n",
    "Accuracy=[]\n",
    "Model=[]"
   ]
  },
  {
   "cell_type": "code",
   "execution_count": 128,
   "metadata": {},
   "outputs": [
    {
     "data": {
      "text/plain": [
       "178"
      ]
     },
     "execution_count": 128,
     "metadata": {},
     "output_type": "execute_result"
    }
   ],
   "source": [
    "import gc\n",
    "gc.collect()"
   ]
  },
  {
   "cell_type": "code",
   "execution_count": 129,
   "metadata": {},
   "outputs": [
    {
     "ename": "MemoryError",
     "evalue": "",
     "output_type": "error",
     "traceback": [
      "\u001b[1;31m---------------------------------------------------------------------------\u001b[0m",
      "\u001b[1;31mMemoryError\u001b[0m                               Traceback (most recent call last)",
      "\u001b[1;32m<ipython-input-129-770a7986fcc7>\u001b[0m in \u001b[0;36m<module>\u001b[1;34m\u001b[0m\n\u001b[1;32m----> 1\u001b[1;33m \u001b[0mtrain_features\u001b[0m\u001b[1;33m.\u001b[0m\u001b[0mtoarray\u001b[0m\u001b[1;33m(\u001b[0m\u001b[1;33m)\u001b[0m\u001b[1;33m\u001b[0m\u001b[1;33m\u001b[0m\u001b[0m\n\u001b[0m",
      "\u001b[1;32mC:\\Apps\\Anaconda3\\envs\\gpu-cuda10\\lib\\site-packages\\scipy\\sparse\\compressed.py\u001b[0m in \u001b[0;36mtoarray\u001b[1;34m(self, order, out)\u001b[0m\n\u001b[0;32m   1022\u001b[0m         \u001b[1;32mif\u001b[0m \u001b[0mout\u001b[0m \u001b[1;32mis\u001b[0m \u001b[1;32mNone\u001b[0m \u001b[1;32mand\u001b[0m \u001b[0morder\u001b[0m \u001b[1;32mis\u001b[0m \u001b[1;32mNone\u001b[0m\u001b[1;33m:\u001b[0m\u001b[1;33m\u001b[0m\u001b[1;33m\u001b[0m\u001b[0m\n\u001b[0;32m   1023\u001b[0m             \u001b[0morder\u001b[0m \u001b[1;33m=\u001b[0m \u001b[0mself\u001b[0m\u001b[1;33m.\u001b[0m\u001b[0m_swap\u001b[0m\u001b[1;33m(\u001b[0m\u001b[1;34m'cf'\u001b[0m\u001b[1;33m)\u001b[0m\u001b[1;33m[\u001b[0m\u001b[1;36m0\u001b[0m\u001b[1;33m]\u001b[0m\u001b[1;33m\u001b[0m\u001b[1;33m\u001b[0m\u001b[0m\n\u001b[1;32m-> 1024\u001b[1;33m         \u001b[0mout\u001b[0m \u001b[1;33m=\u001b[0m \u001b[0mself\u001b[0m\u001b[1;33m.\u001b[0m\u001b[0m_process_toarray_args\u001b[0m\u001b[1;33m(\u001b[0m\u001b[0morder\u001b[0m\u001b[1;33m,\u001b[0m \u001b[0mout\u001b[0m\u001b[1;33m)\u001b[0m\u001b[1;33m\u001b[0m\u001b[1;33m\u001b[0m\u001b[0m\n\u001b[0m\u001b[0;32m   1025\u001b[0m         \u001b[1;32mif\u001b[0m \u001b[1;32mnot\u001b[0m \u001b[1;33m(\u001b[0m\u001b[0mout\u001b[0m\u001b[1;33m.\u001b[0m\u001b[0mflags\u001b[0m\u001b[1;33m.\u001b[0m\u001b[0mc_contiguous\u001b[0m \u001b[1;32mor\u001b[0m \u001b[0mout\u001b[0m\u001b[1;33m.\u001b[0m\u001b[0mflags\u001b[0m\u001b[1;33m.\u001b[0m\u001b[0mf_contiguous\u001b[0m\u001b[1;33m)\u001b[0m\u001b[1;33m:\u001b[0m\u001b[1;33m\u001b[0m\u001b[1;33m\u001b[0m\u001b[0m\n\u001b[0;32m   1026\u001b[0m             \u001b[1;32mraise\u001b[0m \u001b[0mValueError\u001b[0m\u001b[1;33m(\u001b[0m\u001b[1;34m'Output array must be C or F contiguous'\u001b[0m\u001b[1;33m)\u001b[0m\u001b[1;33m\u001b[0m\u001b[1;33m\u001b[0m\u001b[0m\n",
      "\u001b[1;32mC:\\Apps\\Anaconda3\\envs\\gpu-cuda10\\lib\\site-packages\\scipy\\sparse\\base.py\u001b[0m in \u001b[0;36m_process_toarray_args\u001b[1;34m(self, order, out)\u001b[0m\n\u001b[0;32m   1184\u001b[0m             \u001b[1;32mreturn\u001b[0m \u001b[0mout\u001b[0m\u001b[1;33m\u001b[0m\u001b[1;33m\u001b[0m\u001b[0m\n\u001b[0;32m   1185\u001b[0m         \u001b[1;32melse\u001b[0m\u001b[1;33m:\u001b[0m\u001b[1;33m\u001b[0m\u001b[1;33m\u001b[0m\u001b[0m\n\u001b[1;32m-> 1186\u001b[1;33m             \u001b[1;32mreturn\u001b[0m \u001b[0mnp\u001b[0m\u001b[1;33m.\u001b[0m\u001b[0mzeros\u001b[0m\u001b[1;33m(\u001b[0m\u001b[0mself\u001b[0m\u001b[1;33m.\u001b[0m\u001b[0mshape\u001b[0m\u001b[1;33m,\u001b[0m \u001b[0mdtype\u001b[0m\u001b[1;33m=\u001b[0m\u001b[0mself\u001b[0m\u001b[1;33m.\u001b[0m\u001b[0mdtype\u001b[0m\u001b[1;33m,\u001b[0m \u001b[0morder\u001b[0m\u001b[1;33m=\u001b[0m\u001b[0morder\u001b[0m\u001b[1;33m)\u001b[0m\u001b[1;33m\u001b[0m\u001b[1;33m\u001b[0m\u001b[0m\n\u001b[0m\u001b[0;32m   1187\u001b[0m \u001b[1;33m\u001b[0m\u001b[0m\n\u001b[0;32m   1188\u001b[0m \u001b[1;33m\u001b[0m\u001b[0m\n",
      "\u001b[1;31mMemoryError\u001b[0m: "
     ]
    }
   ],
   "source": [
    "train_features.toarray()"
   ]
  },
  {
   "cell_type": "code",
   "execution_count": null,
   "metadata": {},
   "outputs": [],
   "source": [
    "dense_features=train_features.toarray()\n",
    "dense_test= test_features.toarray()\n",
    "Accuracy=[]\n",
    "Model=[]\n",
    "for classifier in Classifiers:\n",
    "    try:\n",
    "        fit = classifier.fit(train_features,train['sentiment'])\n",
    "        pred = fit.predict(test_features)\n",
    "    except Exception:\n",
    "        fit = classifier.fit(dense_features,train['sentiment'])\n",
    "        pred = fit.predict(dense_test)\n",
    "    predictions = [round(value) for value in pred]\n",
    "    accuracy = accuracy_score(test['sentiment'],predictions)\n",
    "    print(classification_report(test.sentiment,  predictions, labels=[0,2,4]))\n",
    "    Accuracy.append(accuracy)\n",
    "    Model.append(classifier.__class__.__name__)\n",
    "    print('Accuracy of '+classifier.__class__.__name__+ ' is: '+str(accuracy))    "
   ]
  },
  {
   "cell_type": "code",
   "execution_count": null,
   "metadata": {},
   "outputs": [],
   "source": []
  },
  {
   "cell_type": "code",
   "execution_count": null,
   "metadata": {},
   "outputs": [],
   "source": []
  },
  {
   "cell_type": "code",
   "execution_count": null,
   "metadata": {},
   "outputs": [],
   "source": []
  },
  {
   "cell_type": "code",
   "execution_count": null,
   "metadata": {},
   "outputs": [],
   "source": []
  },
  {
   "cell_type": "code",
   "execution_count": 155,
   "metadata": {},
   "outputs": [],
   "source": [
    "#X = p_df2.words.values.tolist()\n",
    "X= v.fit_transform(p_df2.text_cleaned.tolist())\n",
    "y = p_df2.target.values.tolist()\n"
   ]
  },
  {
   "cell_type": "code",
   "execution_count": 190,
   "metadata": {},
   "outputs": [],
   "source": [
    "y = label_binarize(y, classes=[0, 2, 4])\n",
    "n_classes = y.shape[1]"
   ]
  },
  {
   "cell_type": "code",
   "execution_count": 165,
   "metadata": {},
   "outputs": [
    {
     "data": {
      "text/plain": [
       "3"
      ]
     },
     "execution_count": 165,
     "metadata": {},
     "output_type": "execute_result"
    }
   ],
   "source": [
    "n_classes"
   ]
  },
  {
   "cell_type": "code",
   "execution_count": 162,
   "metadata": {},
   "outputs": [],
   "source": [
    "\n",
    "X_train, X_test, y_train, y_test = train_test_split(X, y, test_size=0.33, random_state=0)"
   ]
  },
  {
   "cell_type": "code",
   "execution_count": 163,
   "metadata": {},
   "outputs": [
    {
     "data": {
      "text/plain": [
       "(763691, 477134)"
      ]
     },
     "execution_count": 163,
     "metadata": {},
     "output_type": "execute_result"
    }
   ],
   "source": [
    "X_train.shape"
   ]
  },
  {
   "cell_type": "code",
   "execution_count": 171,
   "metadata": {},
   "outputs": [
    {
     "data": {
      "text/plain": [
       "array([[1, 0, 0],\n",
       "       [1, 0, 0],\n",
       "       [0, 0, 1],\n",
       "       ...,\n",
       "       [0, 0, 1],\n",
       "       [1, 0, 0],\n",
       "       [1, 0, 0]])"
      ]
     },
     "execution_count": 171,
     "metadata": {},
     "output_type": "execute_result"
    }
   ],
   "source": [
    "y_train"
   ]
  },
  {
   "cell_type": "code",
   "execution_count": 168,
   "metadata": {},
   "outputs": [
    {
     "data": {
      "text/plain": [
       "<376147x477134 sparse matrix of type '<class 'numpy.int64'>'\n",
       "\twith 3327546 stored elements in Compressed Sparse Row format>"
      ]
     },
     "execution_count": 168,
     "metadata": {},
     "output_type": "execute_result"
    }
   ],
   "source": [
    "X_test"
   ]
  },
  {
   "cell_type": "code",
   "execution_count": 223,
   "metadata": {},
   "outputs": [
    {
     "data": {
      "text/plain": [
       "0.7425660976096439"
      ]
     },
     "execution_count": 223,
     "metadata": {},
     "output_type": "execute_result"
    }
   ],
   "source": [
    "aucc"
   ]
  },
  {
   "cell_type": "code",
   "execution_count": 222,
   "metadata": {},
   "outputs": [
    {
     "name": "stdout",
     "output_type": "stream",
     "text": [
      "ROC-AUC of LR is: 0.7425660976096439\n",
      "Accuracy of LR is: 0.6617156793935991\n"
     ]
    },
    {
     "name": "stderr",
     "output_type": "stream",
     "text": [
      "C:\\Apps\\Anaconda3\\envs\\gpu-cuda10\\lib\\site-packages\\sklearn\\metrics\\classification.py:1437: UndefinedMetricWarning: Precision and F-score are ill-defined and being set to 0.0 in labels with no predicted samples.\n",
      "  'precision', 'predicted', average, warn_for)\n",
      "C:\\Apps\\Anaconda3\\envs\\gpu-cuda10\\lib\\site-packages\\sklearn\\metrics\\classification.py:1439: UndefinedMetricWarning: Recall and F-score are ill-defined and being set to 0.0 in labels with no true samples.\n",
      "  'recall', 'true', average, warn_for)\n"
     ]
    },
    {
     "name": "stdout",
     "output_type": "stream",
     "text": [
      "              precision    recall  f1-score   support\n",
      "\n",
      "           0       0.62      0.82      0.71    114395\n",
      "           2       0.00      0.00      0.00         0\n",
      "           4       0.73      0.51      0.60    113573\n",
      "\n",
      "   micro avg       0.66      0.66      0.66    227968\n",
      "   macro avg       0.45      0.44      0.44    227968\n",
      "weighted avg       0.68      0.66      0.65    227968\n",
      "\n"
     ]
    }
   ],
   "source": [
    "lr = LogisticRegression(C=0.000000001,solver='liblinear',max_iter=200)\n",
    "lrmodel = lr.fit(train_features,train['target'])\n",
    "lrpred = lrmodel.predict(test_features)\n",
    "lr_score = lr.decision_function(test_features)\n",
    "predictions = [round(value) for value in lrpred]\n",
    "lr_accuracy = accuracy_score(test['target'],predictions)\n",
    "test_target = label_binarize(test.target, classes=[0,4])\n",
    "lr_fpr, lr_tpr, theshold = roc_curve(test_target, lr_score)\n",
    "\n",
    "print('ROC-AUC of LR is: ' +  str(auc(lr_fpr, lr_tpr)))\n",
    "print('Accuracy of LR is: '+ str(lr_accuracy)) \n",
    "print(classification_report(test.target, predictions, labels=[0,2,4]))"
   ]
  },
  {
   "cell_type": "code",
   "execution_count": 224,
   "metadata": {},
   "outputs": [
    {
     "name": "stdout",
     "output_type": "stream",
     "text": [
      "ROC-AUC of LR is: 0.7425660976096439\n",
      "Accuracy of LR is: 0.6617156793935991\n"
     ]
    },
    {
     "name": "stderr",
     "output_type": "stream",
     "text": [
      "C:\\Apps\\Anaconda3\\envs\\gpu-cuda10\\lib\\site-packages\\sklearn\\metrics\\classification.py:1437: UndefinedMetricWarning: Precision and F-score are ill-defined and being set to 0.0 in labels with no predicted samples.\n",
      "  'precision', 'predicted', average, warn_for)\n",
      "C:\\Apps\\Anaconda3\\envs\\gpu-cuda10\\lib\\site-packages\\sklearn\\metrics\\classification.py:1439: UndefinedMetricWarning: Recall and F-score are ill-defined and being set to 0.0 in labels with no true samples.\n",
      "  'recall', 'true', average, warn_for)\n"
     ]
    },
    {
     "name": "stdout",
     "output_type": "stream",
     "text": [
      "              precision    recall  f1-score   support\n",
      "\n",
      "           0       0.68      0.68      0.68    114395\n",
      "           2       0.00      0.00      0.00         0\n",
      "           4       0.67      0.67      0.67    113573\n",
      "\n",
      "   micro avg       0.67      0.67      0.67    227968\n",
      "   macro avg       0.45      0.45      0.45    227968\n",
      "weighted avg       0.67      0.67      0.67    227968\n",
      "\n"
     ]
    }
   ],
   "source": [
    "knn = KNeighborsClassifier(3)\n",
    "knn_model = knn.fit(train_features, train.target)\n",
    "knn_pred = knn_model.predict(test_features)\n",
    "knn_score = lr.decision_function(test_features)\n",
    "predictions = [round(v) for v in knn_pred]\n",
    "knn_acc = accuracy_score(test.target, predictions)\n",
    "#test_target = label_binarize(test.target, classes=[0,4])\n",
    "knn_fpr, knn_tpr, theshold = roc_curve(test_target, knn_score)\n",
    "\n",
    "\n",
    "print('ROC-AUC of LR is: ' +  str(auc(lr_fpr, lr_tpr)))\n",
    "print('Accuracy of LR is: '+ str(lr_accuracy)) \n",
    "print(classification_report(test.target, predictions, labels=[0,2,4]))"
   ]
  },
  {
   "cell_type": "code",
   "execution_count": null,
   "metadata": {},
   "outputs": [
    {
     "name": "stderr",
     "output_type": "stream",
     "text": [
      "C:\\Apps\\Anaconda3\\envs\\gpu-cuda10\\lib\\site-packages\\sklearn\\svm\\base.py:193: FutureWarning: The default value of gamma will change from 'auto' to 'scale' in version 0.22 to account better for unscaled features. Set gamma explicitly to 'auto' or 'scale' to avoid this warning.\n",
      "  \"avoid this warning.\", FutureWarning)\n"
     ]
    }
   ],
   "source": [
    "svc = SVC(kernel=\"rbf\", C=0.025, probability=True)\n",
    "#svc = SVC(kernel='rbf',C=1,gamma=0.1)\n",
    "svc_model = svc.fit(train_features, train.target)\n",
    "svc_pred = svc.model.predict(test_features)\n",
    "predictions = [rount(v) for v in svc_pred]\n",
    "svc_acc = accuracy_score(test.target, predictions)\n",
    "\n",
    "svc_score = lr.decision_function(test_features)\n",
    "#test_target = label_binarize(test.target, classes=[0,4])\n",
    "svc_fpr, svc_tpr, theshold = roc_curve(test_target, svc_score)\n",
    "\n",
    "\n",
    "print('ROC-AUC of LR is: ' +  str(auc(svc_fpr, svc_tpr)))\n",
    "print('Accuracy of LR is: '+ str(svc_acc)) \n",
    "print(classification_report(test.target, predictions, labels=[0,2,4]))"
   ]
  },
  {
   "cell_type": "code",
   "execution_count": null,
   "metadata": {},
   "outputs": [],
   "source": [
    "#svc = SVC(kernel=\"rbf\", C=0.025, probability=True)\n",
    "svc = SVC(kernel='rbf',C=1,gamma=0.1)\n",
    "svc_model = svc.fit(train_features, train.target)\n",
    "svc_pred = svc.model.predict(test_features)\n",
    "predictions = [rount(v) for v in svc_pred]\n",
    "svc_acc = accuracy_score(test.target, predictions)\n",
    "\n",
    "svc_score = lr.decision_function(test_features)\n",
    "#test_target = label_binarize(test.target, classes=[0,4])\n",
    "svc_fpr, svc_tpr, theshold = roc_curve(test_target, svc_score)\n",
    "\n",
    "\n",
    "print('ROC-AUC of LR is: ' +  str(auc(svc_fpr, svc_tpr)))\n",
    "print('Accuracy of LR is: '+ str(svc_acc)) \n",
    "print(classification_report(test.target, predictions, labels=[0,2,4]))"
   ]
  },
  {
   "cell_type": "code",
   "execution_count": null,
   "metadata": {},
   "outputs": [],
   "source": [
    "dt = DecisionTreeClassifier()\n",
    "dt_model = dt.fit(train_features, train.target)\n",
    "dt_pred = dt_model.predict(test_features)\n",
    "predictions = [rount(v) for v in dt_pred]\n",
    "dt_acc = accuracy_score(test.target, predictions)\n",
    "\n",
    "dt_score = lr.decision_function(test_features)\n",
    "#test_target = label_binarize(test.target, classes=[0,4])\n",
    "dt_fpr, dt_tpr, theshold = roc_curve(test_target, dt_score)\n",
    "\n",
    "\n",
    "print('ROC-AUC of LR is: ' +  str(auc(dt_fpr, dt_tpr)))\n",
    "print('Accuracy of LR is: '+ str(dt_acc)) \n",
    "print(classification_report(test.target, predictions, labels=[0,2,4]))"
   ]
  },
  {
   "cell_type": "code",
   "execution_count": null,
   "metadata": {},
   "outputs": [],
   "source": [
    "rf = RandomForestClassifier(n_estimators=200)\n",
    "rf_model = rf.fit(train_features, train.target)\n",
    "rf_pred = rf_model.predict(test_features)\n",
    "predictions = [rount(v) for v in rf_pred]\n",
    "rf_acc = accuracy_score(test.target, predictions)\n",
    "\n",
    "rf_score = lr.decision_function(test_features)\n",
    "#test_target = label_binarize(test.target, classes=[0,4])\n",
    "rf_fpr, rf_tpr, theshold = roc_curve(test_target, rf_score)\n",
    "\n",
    "\n",
    "print('ROC-AUC of LR is: ' +  str(auc(rf_fpr, rf_tpr)))\n",
    "print('Accuracy of LR is: '+ str(rf_acc)) \n",
    "print(classification_report(test.target, predictions, labels=[0,2,4]))"
   ]
  },
  {
   "cell_type": "code",
   "execution_count": null,
   "metadata": {},
   "outputs": [],
   "source": [
    "ada = AdaBoostClassifier()\n",
    "ada_model = ada.fit(train_features, train.target)\n",
    "ada_pred = ada_model.predict(test_features)\n",
    "predictions = [rount(v) for v in ada_pred]\n",
    "ada_acc = accuracy_score(test.target, predictions)\n",
    "\n",
    "ada_score = lr.decision_function(test_features)\n",
    "#test_target = label_binarize(test.target, classes=[0,4])\n",
    "ada_fpr, ada_tpr, theshold = roc_curve(test_target, ada_score)\n",
    "\n",
    "\n",
    "print('ROC-AUC of LR is: ' +  str(auc(ada_fpr, ada_tpr)))\n",
    "print('Accuracy of LR is: '+ str(ada_acc)) \n",
    "print(classification_report(test.target, predictions, labels=[0,2,4]))"
   ]
  },
  {
   "cell_type": "code",
   "execution_count": null,
   "metadata": {},
   "outputs": [],
   "source": [
    "gnb = GaussianNB()\n",
    "gnb_model = ada.fit(train_features, train.target)\n",
    "gnb_pred = gnb_model.predict(test_features)\n",
    "predictions = [rount(v) for v in gnb_pred]\n",
    "gnb_acc = accuracy_score(test.target, predictions)\n",
    "\n",
    "gnb_score = lr.decision_function(test_features)\n",
    "#test_target = label_binarize(test.target, classes=[0,4])\n",
    "gnb_fpr, gnb_tpr, theshold = roc_curve(test_target, gnb_score)\n",
    "\n",
    "\n",
    "print('ROC-AUC of GaussianNB is: ' +  str(auc(gnb_fpr, gnb_tpr)))\n",
    "print('Accuracy of GaussianNB is: '+ str(gnb_acc)) \n",
    "print(classification_report(test.target, predictions, labels=[0,2,4]))"
   ]
  },
  {
   "cell_type": "code",
   "execution_count": null,
   "metadata": {},
   "outputs": [],
   "source": [
    "xfbc = XGBClassifier()\n",
    "xfbc_model = ada.fit(train_features, train.target)\n",
    "xfbc_pred = gnb_model.predict(test_features)\n",
    "predictions = [rount(v) for v in xfbc_pred]\n",
    "xfbc_acc = accuracy_score(test.target, predictions)\n",
    "\n",
    "xfbc_score = lr.decision_function(test_features)\n",
    "#test_target = label_binarize(test.target, classes=[0,4])\n",
    "xfbc_fpr, xfbc_tpr, theshold = roc_curve(test_target, xfbc_score)\n",
    "\n",
    "\n",
    "print('ROC-AUC of XGBClassifier is: ' +  str(auc(gnb_fpr, gnb_tpr)))\n",
    "print('Accuracy of XGBClassifier is: '+ str(gnb_acc)) \n",
    "print(classification_report(test.target, predictions, labels=[0,2,4]))"
   ]
  },
  {
   "cell_type": "code",
   "execution_count": null,
   "metadata": {},
   "outputs": [],
   "source": [
    "mlp = MLPClassifier(solver='sgd', alpha=1e-5, hidden_layer_sizes=(5, 2), random_state=1, max_iter=500)\n",
    "mlp_model = ada.fit(train_features, train.target)\n",
    "mlp_pred = gnb_model.predict(test_features)\n",
    "predictions = [rount(v) for v in mlp_pred]\n",
    "mlp_acc = accuracy_score(test.target, predictions)\n",
    "\n",
    "mlp_score = lr.decision_function(test_features)\n",
    "#test_target = label_binarize(test.target, classes=[0,4])\n",
    "mlp_fpr, mlp_tpr, theshold = roc_curve(test_target, xfbc_score)\n",
    "\n",
    "\n",
    "print('ROC-AUC of MLPClassifier is: ' +  str(auc(mlp_fpr, mlp_tpr)))\n",
    "print('Accuracy of MLPClassifier is: '+ str(mlp_acc)) \n",
    "print(classification_report(test.target, predictions, labels=[0,2,4]))"
   ]
  },
  {
   "cell_type": "code",
   "execution_count": null,
   "metadata": {},
   "outputs": [],
   "source": [
    "gbc = GradientBoostingClassifier(random_state=0)\n",
    "gbc_model = ada.fit(train_features, train.target)\n",
    "gbc_pred = gnb_model.predict(test_features)\n",
    "predictions = [rount(v) for v in gbc_pred]\n",
    "gbc_acc = accuracy_score(test.target, predictions)\n",
    "\n",
    "gbc_score = lr.decision_function(test_features)\n",
    "#test_target = label_binarize(test.target, classes=[0,4])\n",
    "gbc_fpr, gbc_tpr, theshold = roc_curve(test_target, gbc_score)\n",
    "\n",
    "\n",
    "print('ROC-AUC of GradientBoostingClassifier is: ' +  str(auc(gbc_fpr, gbc_tpr)))\n",
    "print('Accuracy of GradientBoostingClassifier is: '+ str(gbc_acc)) \n",
    "print(classification_report(test.target, predictions, labels=[0,2,4]))"
   ]
  },
  {
   "cell_type": "code",
   "execution_count": 209,
   "metadata": {},
   "outputs": [
    {
     "data": {
      "image/png": "[encoded data removed]",
      "text/plain": [
       "<Figure size 432x288 with 1 Axes>"
      ]
     },
     "metadata": {
      "needs_background": "light"
     },
     "output_type": "display_data"
    }
   ],
   "source": [
    "plt.figure()\n",
    "lw = 2\n",
    "plt.plot(fpr, tpr, color='darkorange', lw=lw, label='ROC curve (area = %0.2f)' % auc(lr_fpr, lr_tpr))\n",
    "plt.plot([0, 1], [0, 1], color='navy', lw=lw, linestyle='--')\n",
    "plt.xlim([0.0, 1.0])\n",
    "plt.ylim([0.0, 1.05])\n",
    "plt.xlabel('False Positive Rate')\n",
    "plt.ylabel('True Positive Rate')\n",
    "#plt.title('Receiver operating characteristic example')\n",
    "plt.legend(loc=\"lower right\")\n",
    "plt.grid(True)\n",
    "plt.show()"
   ]
  },
  {
   "cell_type": "code",
   "execution_count": null,
   "metadata": {},
   "outputs": [],
   "source": [
    "\n"
   ]
  },
  {
   "cell_type": "code",
   "execution_count": 21,
   "metadata": {
    "_cell_guid": "3537c590-cc9c-48bf-8a4e-7f0406a564ff"
   },
   "outputs": [
    {
     "ename": "KeyboardInterrupt",
     "evalue": "",
     "output_type": "error",
     "traceback": [
      "\u001b[1;31m---------------------------------------------------------------------------\u001b[0m",
      "\u001b[1;31mKeyboardInterrupt\u001b[0m                         Traceback (most recent call last)",
      "\u001b[1;32m<ipython-input-21-1ff8c394cc1b>\u001b[0m in \u001b[0;36m<module>\u001b[1;34m\u001b[0m\n\u001b[0;32m      1\u001b[0m \u001b[0mknn\u001b[0m \u001b[1;33m=\u001b[0m \u001b[0mKNeighborsClassifier\u001b[0m\u001b[1;33m(\u001b[0m\u001b[1;36m3\u001b[0m\u001b[1;33m)\u001b[0m\u001b[1;33m\u001b[0m\u001b[1;33m\u001b[0m\u001b[0m\n\u001b[0;32m      2\u001b[0m \u001b[0mknn_model\u001b[0m \u001b[1;33m=\u001b[0m \u001b[0mknn\u001b[0m\u001b[1;33m.\u001b[0m\u001b[0mfit\u001b[0m\u001b[1;33m(\u001b[0m\u001b[0mtrain_features\u001b[0m\u001b[1;33m,\u001b[0m \u001b[0mtrain\u001b[0m\u001b[1;33m.\u001b[0m\u001b[0mtarget\u001b[0m\u001b[1;33m)\u001b[0m\u001b[1;33m\u001b[0m\u001b[1;33m\u001b[0m\u001b[0m\n\u001b[1;32m----> 3\u001b[1;33m \u001b[0mknn_pred\u001b[0m \u001b[1;33m=\u001b[0m \u001b[0mknn_model\u001b[0m\u001b[1;33m.\u001b[0m\u001b[0mpredict\u001b[0m\u001b[1;33m(\u001b[0m\u001b[0mtest_features\u001b[0m\u001b[1;33m)\u001b[0m\u001b[1;33m\u001b[0m\u001b[1;33m\u001b[0m\u001b[0m\n\u001b[0m\u001b[0;32m      4\u001b[0m \u001b[0mpredictions\u001b[0m \u001b[1;33m=\u001b[0m \u001b[1;33m[\u001b[0m\u001b[0mround\u001b[0m\u001b[1;33m(\u001b[0m\u001b[0mv\u001b[0m\u001b[1;33m)\u001b[0m \u001b[1;32mfor\u001b[0m \u001b[0mv\u001b[0m \u001b[1;32min\u001b[0m \u001b[0mknn_pred\u001b[0m\u001b[1;33m]\u001b[0m\u001b[1;33m\u001b[0m\u001b[1;33m\u001b[0m\u001b[0m\n\u001b[0;32m      5\u001b[0m \u001b[0mknn_acc\u001b[0m \u001b[1;33m=\u001b[0m \u001b[0maccuracy_score\u001b[0m\u001b[1;33m(\u001b[0m\u001b[0mtest\u001b[0m\u001b[1;33m.\u001b[0m\u001b[0mtarget\u001b[0m\u001b[1;33m,\u001b[0m \u001b[0mpredictions\u001b[0m\u001b[1;33m)\u001b[0m\u001b[1;33m\u001b[0m\u001b[1;33m\u001b[0m\u001b[0m\n",
      "\u001b[1;32mC:\\Apps\\Anaconda3\\envs\\gpu-cuda10\\lib\\site-packages\\sklearn\\neighbors\\classification.py\u001b[0m in \u001b[0;36mpredict\u001b[1;34m(self, X)\u001b[0m\n\u001b[0;32m    147\u001b[0m         \u001b[0mX\u001b[0m \u001b[1;33m=\u001b[0m \u001b[0mcheck_array\u001b[0m\u001b[1;33m(\u001b[0m\u001b[0mX\u001b[0m\u001b[1;33m,\u001b[0m \u001b[0maccept_sparse\u001b[0m\u001b[1;33m=\u001b[0m\u001b[1;34m'csr'\u001b[0m\u001b[1;33m)\u001b[0m\u001b[1;33m\u001b[0m\u001b[1;33m\u001b[0m\u001b[0m\n\u001b[0;32m    148\u001b[0m \u001b[1;33m\u001b[0m\u001b[0m\n\u001b[1;32m--> 149\u001b[1;33m         \u001b[0mneigh_dist\u001b[0m\u001b[1;33m,\u001b[0m \u001b[0mneigh_ind\u001b[0m \u001b[1;33m=\u001b[0m \u001b[0mself\u001b[0m\u001b[1;33m.\u001b[0m\u001b[0mkneighbors\u001b[0m\u001b[1;33m(\u001b[0m\u001b[0mX\u001b[0m\u001b[1;33m)\u001b[0m\u001b[1;33m\u001b[0m\u001b[1;33m\u001b[0m\u001b[0m\n\u001b[0m\u001b[0;32m    150\u001b[0m         \u001b[0mclasses_\u001b[0m \u001b[1;33m=\u001b[0m \u001b[0mself\u001b[0m\u001b[1;33m.\u001b[0m\u001b[0mclasses_\u001b[0m\u001b[1;33m\u001b[0m\u001b[1;33m\u001b[0m\u001b[0m\n\u001b[0;32m    151\u001b[0m         \u001b[0m_y\u001b[0m \u001b[1;33m=\u001b[0m \u001b[0mself\u001b[0m\u001b[1;33m.\u001b[0m\u001b[0m_y\u001b[0m\u001b[1;33m\u001b[0m\u001b[1;33m\u001b[0m\u001b[0m\n",
      "\u001b[1;32mC:\\Apps\\Anaconda3\\envs\\gpu-cuda10\\lib\\site-packages\\sklearn\\neighbors\\base.py\u001b[0m in \u001b[0;36mkneighbors\u001b[1;34m(self, X, n_neighbors, return_distance)\u001b[0m\n\u001b[0;32m    432\u001b[0m                 \u001b[0mX\u001b[0m\u001b[1;33m,\u001b[0m \u001b[0mself\u001b[0m\u001b[1;33m.\u001b[0m\u001b[0m_fit_X\u001b[0m\u001b[1;33m,\u001b[0m \u001b[0mreduce_func\u001b[0m\u001b[1;33m=\u001b[0m\u001b[0mreduce_func\u001b[0m\u001b[1;33m,\u001b[0m\u001b[1;33m\u001b[0m\u001b[1;33m\u001b[0m\u001b[0m\n\u001b[0;32m    433\u001b[0m                 \u001b[0mmetric\u001b[0m\u001b[1;33m=\u001b[0m\u001b[0mself\u001b[0m\u001b[1;33m.\u001b[0m\u001b[0meffective_metric_\u001b[0m\u001b[1;33m,\u001b[0m \u001b[0mn_jobs\u001b[0m\u001b[1;33m=\u001b[0m\u001b[0mn_jobs\u001b[0m\u001b[1;33m,\u001b[0m\u001b[1;33m\u001b[0m\u001b[1;33m\u001b[0m\u001b[0m\n\u001b[1;32m--> 434\u001b[1;33m                 **kwds))\n\u001b[0m\u001b[0;32m    435\u001b[0m \u001b[1;33m\u001b[0m\u001b[0m\n\u001b[0;32m    436\u001b[0m         \u001b[1;32melif\u001b[0m \u001b[0mself\u001b[0m\u001b[1;33m.\u001b[0m\u001b[0m_fit_method\u001b[0m \u001b[1;32min\u001b[0m \u001b[1;33m[\u001b[0m\u001b[1;34m'ball_tree'\u001b[0m\u001b[1;33m,\u001b[0m \u001b[1;34m'kd_tree'\u001b[0m\u001b[1;33m]\u001b[0m\u001b[1;33m:\u001b[0m\u001b[1;33m\u001b[0m\u001b[1;33m\u001b[0m\u001b[0m\n",
      "\u001b[1;32mC:\\Apps\\Anaconda3\\envs\\gpu-cuda10\\lib\\site-packages\\sklearn\\metrics\\pairwise.py\u001b[0m in \u001b[0;36mpairwise_distances_chunked\u001b[1;34m(X, Y, reduce_func, metric, n_jobs, working_memory, **kwds)\u001b[0m\n\u001b[0;32m   1446\u001b[0m             \u001b[0mX_chunk\u001b[0m \u001b[1;33m=\u001b[0m \u001b[0mX\u001b[0m\u001b[1;33m[\u001b[0m\u001b[0msl\u001b[0m\u001b[1;33m]\u001b[0m\u001b[1;33m\u001b[0m\u001b[1;33m\u001b[0m\u001b[0m\n\u001b[0;32m   1447\u001b[0m         D_chunk = pairwise_distances(X_chunk, Y, metric=metric,\n\u001b[1;32m-> 1448\u001b[1;33m                                      n_jobs=n_jobs, **kwds)\n\u001b[0m\u001b[0;32m   1449\u001b[0m         if ((X is Y or Y is None)\n\u001b[0;32m   1450\u001b[0m                 \u001b[1;32mand\u001b[0m \u001b[0mPAIRWISE_DISTANCE_FUNCTIONS\u001b[0m\u001b[1;33m.\u001b[0m\u001b[0mget\u001b[0m\u001b[1;33m(\u001b[0m\u001b[0mmetric\u001b[0m\u001b[1;33m,\u001b[0m \u001b[1;32mNone\u001b[0m\u001b[1;33m)\u001b[0m\u001b[1;33m\u001b[0m\u001b[1;33m\u001b[0m\u001b[0m\n",
      "\u001b[1;32mC:\\Apps\\Anaconda3\\envs\\gpu-cuda10\\lib\\site-packages\\sklearn\\metrics\\pairwise.py\u001b[0m in \u001b[0;36mpairwise_distances\u001b[1;34m(X, Y, metric, n_jobs, **kwds)\u001b[0m\n\u001b[0;32m   1586\u001b[0m         \u001b[0mfunc\u001b[0m \u001b[1;33m=\u001b[0m \u001b[0mpartial\u001b[0m\u001b[1;33m(\u001b[0m\u001b[0mdistance\u001b[0m\u001b[1;33m.\u001b[0m\u001b[0mcdist\u001b[0m\u001b[1;33m,\u001b[0m \u001b[0mmetric\u001b[0m\u001b[1;33m=\u001b[0m\u001b[0mmetric\u001b[0m\u001b[1;33m,\u001b[0m \u001b[1;33m**\u001b[0m\u001b[0mkwds\u001b[0m\u001b[1;33m)\u001b[0m\u001b[1;33m\u001b[0m\u001b[1;33m\u001b[0m\u001b[0m\n\u001b[0;32m   1587\u001b[0m \u001b[1;33m\u001b[0m\u001b[0m\n\u001b[1;32m-> 1588\u001b[1;33m     \u001b[1;32mreturn\u001b[0m \u001b[0m_parallel_pairwise\u001b[0m\u001b[1;33m(\u001b[0m\u001b[0mX\u001b[0m\u001b[1;33m,\u001b[0m \u001b[0mY\u001b[0m\u001b[1;33m,\u001b[0m \u001b[0mfunc\u001b[0m\u001b[1;33m,\u001b[0m \u001b[0mn_jobs\u001b[0m\u001b[1;33m,\u001b[0m \u001b[1;33m**\u001b[0m\u001b[0mkwds\u001b[0m\u001b[1;33m)\u001b[0m\u001b[1;33m\u001b[0m\u001b[1;33m\u001b[0m\u001b[0m\n\u001b[0m\u001b[0;32m   1589\u001b[0m \u001b[1;33m\u001b[0m\u001b[0m\n\u001b[0;32m   1590\u001b[0m \u001b[1;33m\u001b[0m\u001b[0m\n",
      "\u001b[1;32mC:\\Apps\\Anaconda3\\envs\\gpu-cuda10\\lib\\site-packages\\sklearn\\metrics\\pairwise.py\u001b[0m in \u001b[0;36m_parallel_pairwise\u001b[1;34m(X, Y, func, n_jobs, **kwds)\u001b[0m\n\u001b[0;32m   1204\u001b[0m \u001b[1;33m\u001b[0m\u001b[0m\n\u001b[0;32m   1205\u001b[0m     \u001b[1;32mif\u001b[0m \u001b[0meffective_n_jobs\u001b[0m\u001b[1;33m(\u001b[0m\u001b[0mn_jobs\u001b[0m\u001b[1;33m)\u001b[0m \u001b[1;33m==\u001b[0m \u001b[1;36m1\u001b[0m\u001b[1;33m:\u001b[0m\u001b[1;33m\u001b[0m\u001b[1;33m\u001b[0m\u001b[0m\n\u001b[1;32m-> 1206\u001b[1;33m         \u001b[1;32mreturn\u001b[0m \u001b[0mfunc\u001b[0m\u001b[1;33m(\u001b[0m\u001b[0mX\u001b[0m\u001b[1;33m,\u001b[0m \u001b[0mY\u001b[0m\u001b[1;33m,\u001b[0m \u001b[1;33m**\u001b[0m\u001b[0mkwds\u001b[0m\u001b[1;33m)\u001b[0m\u001b[1;33m\u001b[0m\u001b[1;33m\u001b[0m\u001b[0m\n\u001b[0m\u001b[0;32m   1207\u001b[0m \u001b[1;33m\u001b[0m\u001b[0m\n\u001b[0;32m   1208\u001b[0m     \u001b[1;31m# enforce a threading backend to prevent data communication overhead\u001b[0m\u001b[1;33m\u001b[0m\u001b[1;33m\u001b[0m\u001b[1;33m\u001b[0m\u001b[0m\n",
      "\u001b[1;32mC:\\Apps\\Anaconda3\\envs\\gpu-cuda10\\lib\\site-packages\\sklearn\\metrics\\pairwise.py\u001b[0m in \u001b[0;36meuclidean_distances\u001b[1;34m(X, Y, Y_norm_squared, squared, X_norm_squared)\u001b[0m\n\u001b[0;32m    272\u001b[0m         \u001b[1;31m# if dtype is already float64, no need to chunk and upcast\u001b[0m\u001b[1;33m\u001b[0m\u001b[1;33m\u001b[0m\u001b[1;33m\u001b[0m\u001b[0m\n\u001b[0;32m    273\u001b[0m         \u001b[0mdistances\u001b[0m \u001b[1;33m=\u001b[0m \u001b[1;33m-\u001b[0m \u001b[1;36m2\u001b[0m \u001b[1;33m*\u001b[0m \u001b[0msafe_sparse_dot\u001b[0m\u001b[1;33m(\u001b[0m\u001b[0mX\u001b[0m\u001b[1;33m,\u001b[0m \u001b[0mY\u001b[0m\u001b[1;33m.\u001b[0m\u001b[0mT\u001b[0m\u001b[1;33m,\u001b[0m \u001b[0mdense_output\u001b[0m\u001b[1;33m=\u001b[0m\u001b[1;32mTrue\u001b[0m\u001b[1;33m)\u001b[0m\u001b[1;33m\u001b[0m\u001b[1;33m\u001b[0m\u001b[0m\n\u001b[1;32m--> 274\u001b[1;33m         \u001b[0mdistances\u001b[0m \u001b[1;33m+=\u001b[0m \u001b[0mXX\u001b[0m\u001b[1;33m\u001b[0m\u001b[1;33m\u001b[0m\u001b[0m\n\u001b[0m\u001b[0;32m    275\u001b[0m         \u001b[0mdistances\u001b[0m \u001b[1;33m+=\u001b[0m \u001b[0mYY\u001b[0m\u001b[1;33m\u001b[0m\u001b[1;33m\u001b[0m\u001b[0m\n\u001b[0;32m    276\u001b[0m     \u001b[0mnp\u001b[0m\u001b[1;33m.\u001b[0m\u001b[0mmaximum\u001b[0m\u001b[1;33m(\u001b[0m\u001b[0mdistances\u001b[0m\u001b[1;33m,\u001b[0m \u001b[1;36m0\u001b[0m\u001b[1;33m,\u001b[0m \u001b[0mout\u001b[0m\u001b[1;33m=\u001b[0m\u001b[0mdistances\u001b[0m\u001b[1;33m)\u001b[0m\u001b[1;33m\u001b[0m\u001b[1;33m\u001b[0m\u001b[0m\n",
      "\u001b[1;31mKeyboardInterrupt\u001b[0m: "
     ]
    }
   ],
   "source": []
  },
  {
   "cell_type": "code",
   "execution_count": null,
   "metadata": {},
   "outputs": [],
   "source": []
  },
  {
   "cell_type": "code",
   "execution_count": null,
   "metadata": {},
   "outputs": [],
   "source": []
  },
  {
   "cell_type": "code",
   "execution_count": null,
   "metadata": {},
   "outputs": [],
   "source": []
  },
  {
   "cell_type": "code",
   "execution_count": null,
   "metadata": {},
   "outputs": [],
   "source": []
  },
  {
   "cell_type": "code",
   "execution_count": null,
   "metadata": {},
   "outputs": [],
   "source": []
  },
  {
   "cell_type": "code",
   "execution_count": null,
   "metadata": {},
   "outputs": [],
   "source": []
  },
  {
   "cell_type": "code",
   "execution_count": null,
   "metadata": {},
   "outputs": [],
   "source": []
  },
  {
   "cell_type": "code",
   "execution_count": null,
   "metadata": {},
   "outputs": [],
   "source": []
  },
  {
   "cell_type": "code",
   "execution_count": null,
   "metadata": {},
   "outputs": [],
   "source": []
  },
  {
   "cell_type": "code",
   "execution_count": null,
   "metadata": {},
   "outputs": [],
   "source": [
    "Accuracy.append(accuracy)"
   ]
  },
  {
   "cell_type": "markdown",
   "metadata": {
    "_cell_guid": "131c9c37-3fab-dc5b-3615-ff06ccadafec"
   },
   "source": [
    "## Compare the model performances"
   ]
  },
  {
   "cell_type": "code",
   "execution_count": null,
   "metadata": {
    "_cell_guid": "59679456-286a-cfb3-a8d0-1895cd4af069"
   },
   "outputs": [],
   "source": [
    "Index = [1,2,3,4,5,6,7,8,9]\n",
    "plt.bar(Index,Accuracy,alpha=0.9, width = 0.6, \n",
    "        facecolor = 'green', edgecolor = 'white' )\n",
    "plt.xticks(Index, Model,rotation=90)\n",
    "plt.ylabel('Accuracy')\n",
    "plt.xlabel('Model')\n",
    "plt.title('Accuracies of Models')"
   ]
  },
  {
   "cell_type": "markdown",
   "metadata": {
    "_cell_guid": "2dfa7c03-4d88-4674-148f-2dcc6ad89b3e"
   },
   "source": []
  }
 ],
 "metadata": {
  "kernelspec": {
   "display_name": "Python 3",
   "language": "python",
   "name": "python3"
  },
  "language_info": {
   "codemirror_mode": {
    "name": "ipython",
    "version": 3
   },
   "file_extension": ".py",
   "mimetype": "text/x-python",
   "name": "python",
   "nbconvert_exporter": "python",
   "pygments_lexer": "ipython3",
   "version": "3.6.9"
  }
 },
 "nbformat": 4,
 "nbformat_minor": 4
}
