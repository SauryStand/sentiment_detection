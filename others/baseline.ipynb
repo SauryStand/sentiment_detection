{
 "cells": [
  {
   "cell_type": "code",
   "execution_count": 5,
   "metadata": {
    "_cell_guid": "ceee4bc5-5a14-c005-2c2a-7c879c3fa0ec"
   },
   "outputs": [],
   "source": [
    "import sklearn\n",
    "import matplotlib.pyplot as plt\n",
    "%matplotlib inline\n",
    "import pandas\n",
    "from sklearn.model_selection import train_test_split\n",
    "import numpy\n",
    "import re"
   ]
  },
  {
   "cell_type": "code",
   "execution_count": null,
   "metadata": {
    "_cell_guid": "17a6b9e2-26da-b492-2107-73611e20d9c4"
   },
   "outputs": [],
   "source": [
    "Tweet= pandas.read_csv(\"../input/twitter-airline-sentiment/Tweets.csv\")\n",
    "Tweet.head()"
   ]
  },
  {
   "cell_type": "code",
   "execution_count": null,
   "metadata": {
    "_cell_guid": "405b2e80-e9a1-4a93-f0ba-9cbe3bea13b1"
   },
   "outputs": [],
   "source": []
  },
  {
   "cell_type": "markdown",
   "metadata": {
    "_cell_guid": "7efe1456-8808-112b-4c7b-20d2259186cf"
   },
   "source": []
  },
  {
   "cell_type": "code",
   "execution_count": null,
   "metadata": {
    "_cell_guid": "964886df-3b7b-4426-48bc-5e3995c72042"
   },
   "outputs": [],
   "source": [
    "import re\n",
    "import nltk\n",
    "from nltk.corpus import stopwords\n",
    "# 数据清洗\n",
    "\n",
    "def tweet_to_words(raw_tweet):\n",
    "    letters_only = re.sub(\"[^a-zA-Z]\", \" \",raw_tweet) \n",
    "    words = letters_only.lower().split()                             \n",
    "    stops = set(stopwords.words(\"english\"))                  \n",
    "    meaningful_words = [w for w in words if not w in stops] \n",
    "    return( \" \".join( meaningful_words )) \n",
    "\n",
    "def clean_tweet_length(raw_tweet):\n",
    "    letters_only = re.sub(\"[^a-zA-Z]\", \" \",raw_tweet) \n",
    "    words = letters_only.lower().split()                             \n",
    "    stops = set(stopwords.words(\"english\"))                  \n",
    "    meaningful_words = [w for w in words if not w in stops] \n",
    "    return(len(meaningful_words)) \n",
    "# 将标签转换成数字\n",
    "Tweet['sentiment']=Tweet['airline_sentiment'].apply(lambda x: 0 if x=='negative' else 1)\n",
    "Tweet['clean_tweet']=Tweet['text'].apply(lambda x: tweet_to_words(x))\n",
    "Tweet['Tweet_length']=Tweet['text'].apply(lambda x: clean_tweet_length(x))\n"
   ]
  },
  {
   "cell_type": "code",
   "execution_count": 6,
   "metadata": {
    "_cell_guid": "d3321d7e-3c68-a64b-8312-aebab5e8ba00"
   },
   "outputs": [],
   "source": [
    "import pandas as pd\n",
    "p_df2 = pd.read_csv('p_df2.csv')\n"
   ]
  },
  {
   "cell_type": "code",
   "execution_count": 7,
   "metadata": {},
   "outputs": [],
   "source": [
    "def keepwords(text):\n",
    "    temp = re.sub('[^a-zA-Z]', ' ', text)\n",
    "    return temp.lower()\n",
    "\n",
    "p_df2['user'] = p_df2.user.apply(lambda x: keepwords(x))"
   ]
  },
  {
   "cell_type": "code",
   "execution_count": 8,
   "metadata": {},
   "outputs": [],
   "source": [
    "p_df2['text_cleaned'] = p_df2[['user', 'text_cleaned']].apply(lambda x: ' '.join(x), axis=1)"
   ]
  },
  {
   "cell_type": "code",
   "execution_count": 9,
   "metadata": {},
   "outputs": [
    {
     "data": {
      "text/html": [
       "<div>\n",
       "<style scoped>\n",
       "    .dataframe tbody tr th:only-of-type {\n",
       "        vertical-align: middle;\n",
       "    }\n",
       "\n",
       "    .dataframe tbody tr th {\n",
       "        vertical-align: top;\n",
       "    }\n",
       "\n",
       "    .dataframe thead th {\n",
       "        text-align: right;\n",
       "    }\n",
       "</style>\n",
       "<table border=\"1\" class=\"dataframe\">\n",
       "  <thead>\n",
       "    <tr style=\"text-align: right;\">\n",
       "      <th></th>\n",
       "      <th>Unnamed: 0</th>\n",
       "      <th>target</th>\n",
       "      <th>ids</th>\n",
       "      <th>date</th>\n",
       "      <th>flag</th>\n",
       "      <th>user</th>\n",
       "      <th>text</th>\n",
       "      <th>text_cleaned</th>\n",
       "      <th>words</th>\n",
       "      <th>word_length</th>\n",
       "      <th>c2id</th>\n",
       "    </tr>\n",
       "  </thead>\n",
       "  <tbody>\n",
       "    <tr>\n",
       "      <td>0</td>\n",
       "      <td>0</td>\n",
       "      <td>0</td>\n",
       "      <td>1467810369</td>\n",
       "      <td>Mon Apr 06 22:19:45 PDT 2009</td>\n",
       "      <td>NO_QUERY</td>\n",
       "      <td>thespecialone</td>\n",
       "      <td>@switchfoot http://twitpic.com/2y1zl - Awww, t...</td>\n",
       "      <td>thespecialone  switchfoot awww bummer you sho...</td>\n",
       "      <td>[19127, 374, 1122, 39, 3280, 6, 632, 8572, 170...</td>\n",
       "      <td>10</td>\n",
       "      <td>0</td>\n",
       "    </tr>\n",
       "    <tr>\n",
       "      <td>1</td>\n",
       "      <td>1</td>\n",
       "      <td>0</td>\n",
       "      <td>1467810672</td>\n",
       "      <td>Mon Apr 06 22:19:49 PDT 2009</td>\n",
       "      <td>NO_QUERY</td>\n",
       "      <td>scotthamilton</td>\n",
       "      <td>is upset that he can't update his Facebook by ...</td>\n",
       "      <td>scotthamilton upset update facebook texting mi...</td>\n",
       "      <td>[683, 435, 422, 1980, 171, 415, 2102, 70, 7, 1...</td>\n",
       "      <td>11</td>\n",
       "      <td>0</td>\n",
       "    </tr>\n",
       "    <tr>\n",
       "      <td>2</td>\n",
       "      <td>2</td>\n",
       "      <td>0</td>\n",
       "      <td>1467810917</td>\n",
       "      <td>Mon Apr 06 22:19:53 PDT 2009</td>\n",
       "      <td>NO_QUERY</td>\n",
       "      <td>mattycus</td>\n",
       "      <td>@Kenichan I dived many times for the ball. Man...</td>\n",
       "      <td>mattycus kenichan dived many times ball manage...</td>\n",
       "      <td>[27392, 67378, 196, 223, 1066, 1434, 763, 32, ...</td>\n",
       "      <td>10</td>\n",
       "      <td>0</td>\n",
       "    </tr>\n",
       "    <tr>\n",
       "      <td>3</td>\n",
       "      <td>3</td>\n",
       "      <td>0</td>\n",
       "      <td>1467811184</td>\n",
       "      <td>Mon Apr 06 22:19:57 PDT 2009</td>\n",
       "      <td>NO_QUERY</td>\n",
       "      <td>ellectf</td>\n",
       "      <td>my whole body feels itchy and like its on fire</td>\n",
       "      <td>ellectf whole body feels itchy like fire</td>\n",
       "      <td>[294, 666, 357, 3117, 4, 983]</td>\n",
       "      <td>6</td>\n",
       "      <td>0</td>\n",
       "    </tr>\n",
       "    <tr>\n",
       "      <td>4</td>\n",
       "      <td>7</td>\n",
       "      <td>0</td>\n",
       "      <td>1467811594</td>\n",
       "      <td>Mon Apr 06 22:20:03 PDT 2009</td>\n",
       "      <td>NO_QUERY</td>\n",
       "      <td>cozz</td>\n",
       "      <td>@LOLTrish hey  long time no see! Yes.. Rains a...</td>\n",
       "      <td>cozz loltrish hey long time see yes rains bit ...</td>\n",
       "      <td>[111833, 77, 81, 12, 18, 84, 2609, 142, 142, 1...</td>\n",
       "      <td>12</td>\n",
       "      <td>0</td>\n",
       "    </tr>\n",
       "  </tbody>\n",
       "</table>\n",
       "</div>"
      ],
      "text/plain": [
       "   Unnamed: 0  target         ids                          date      flag  \\\n",
       "0           0       0  1467810369  Mon Apr 06 22:19:45 PDT 2009  NO_QUERY   \n",
       "1           1       0  1467810672  Mon Apr 06 22:19:49 PDT 2009  NO_QUERY   \n",
       "2           2       0  1467810917  Mon Apr 06 22:19:53 PDT 2009  NO_QUERY   \n",
       "3           3       0  1467811184  Mon Apr 06 22:19:57 PDT 2009  NO_QUERY   \n",
       "4           7       0  1467811594  Mon Apr 06 22:20:03 PDT 2009  NO_QUERY   \n",
       "\n",
       "              user                                               text  \\\n",
       "0   thespecialone   @switchfoot http://twitpic.com/2y1zl - Awww, t...   \n",
       "1    scotthamilton  is upset that he can't update his Facebook by ...   \n",
       "2         mattycus  @Kenichan I dived many times for the ball. Man...   \n",
       "3          ellectf    my whole body feels itchy and like its on fire    \n",
       "4             cozz  @LOLTrish hey  long time no see! Yes.. Rains a...   \n",
       "\n",
       "                                        text_cleaned  \\\n",
       "0   thespecialone  switchfoot awww bummer you sho...   \n",
       "1  scotthamilton upset update facebook texting mi...   \n",
       "2  mattycus kenichan dived many times ball manage...   \n",
       "3          ellectf whole body feels itchy like fire    \n",
       "4  cozz loltrish hey long time see yes rains bit ...   \n",
       "\n",
       "                                               words  word_length  c2id  \n",
       "0  [19127, 374, 1122, 39, 3280, 6, 632, 8572, 170...           10     0  \n",
       "1  [683, 435, 422, 1980, 171, 415, 2102, 70, 7, 1...           11     0  \n",
       "2  [27392, 67378, 196, 223, 1066, 1434, 763, 32, ...           10     0  \n",
       "3                      [294, 666, 357, 3117, 4, 983]            6     0  \n",
       "4  [111833, 77, 81, 12, 18, 84, 2609, 142, 142, 1...           12     0  "
      ]
     },
     "execution_count": 9,
     "metadata": {},
     "output_type": "execute_result"
    }
   ],
   "source": [
    "p_df2.head()"
   ]
  },
  {
   "cell_type": "code",
   "execution_count": 10,
   "metadata": {},
   "outputs": [],
   "source": [
    "#train,test = train_test_split(Tweet,test_size=0.2,random_state=42)\n",
    "train,test = train_test_split(p_df2,test_size=0.2,random_state=42)"
   ]
  },
  {
   "cell_type": "code",
   "execution_count": 11,
   "metadata": {},
   "outputs": [],
   "source": [
    "train_clean_tweet = train.text_cleaned.tolist()\n",
    "test_clean_tweet = test.text_cleaned.tolist()"
   ]
  },
  {
   "cell_type": "code",
   "execution_count": 12,
   "metadata": {},
   "outputs": [
    {
     "data": {
      "text/html": [
       "<div>\n",
       "<style scoped>\n",
       "    .dataframe tbody tr th:only-of-type {\n",
       "        vertical-align: middle;\n",
       "    }\n",
       "\n",
       "    .dataframe tbody tr th {\n",
       "        vertical-align: top;\n",
       "    }\n",
       "\n",
       "    .dataframe thead th {\n",
       "        text-align: right;\n",
       "    }\n",
       "</style>\n",
       "<table border=\"1\" class=\"dataframe\">\n",
       "  <thead>\n",
       "    <tr style=\"text-align: right;\">\n",
       "      <th></th>\n",
       "      <th>Unnamed: 0</th>\n",
       "      <th>target</th>\n",
       "      <th>ids</th>\n",
       "      <th>date</th>\n",
       "      <th>flag</th>\n",
       "      <th>user</th>\n",
       "      <th>text</th>\n",
       "      <th>text_cleaned</th>\n",
       "      <th>words</th>\n",
       "      <th>word_length</th>\n",
       "      <th>c2id</th>\n",
       "    </tr>\n",
       "  </thead>\n",
       "  <tbody>\n",
       "    <tr>\n",
       "      <td>539763</td>\n",
       "      <td>755727</td>\n",
       "      <td>0</td>\n",
       "      <td>2288425922</td>\n",
       "      <td>Mon Jun 22 19:08:48 PDT 2009</td>\n",
       "      <td>NO_QUERY</td>\n",
       "      <td>mariantoinett</td>\n",
       "      <td>@jnicole80  going away party   I just thought ...</td>\n",
       "      <td>mariantoinett jnicole going away party thought...</td>\n",
       "      <td>[302915, 9, 128, 185, 143, 600, 13, 123, 101, ...</td>\n",
       "      <td>14</td>\n",
       "      <td>0</td>\n",
       "    </tr>\n",
       "    <tr>\n",
       "      <td>159816</td>\n",
       "      <td>224031</td>\n",
       "      <td>0</td>\n",
       "      <td>1977327140</td>\n",
       "      <td>Sat May 30 20:42:31 PDT 2009</td>\n",
       "      <td>NO_QUERY</td>\n",
       "      <td>oneoftherobs</td>\n",
       "      <td>@KristinaDeFonte I'm so sorry, I just got home...</td>\n",
       "      <td>oneoftherobs kristinadefonte sorry got home li...</td>\n",
       "      <td>[214481, 57, 6, 25, 4, 418, 314, 17, 235, 51, ...</td>\n",
       "      <td>14</td>\n",
       "      <td>0</td>\n",
       "    </tr>\n",
       "    <tr>\n",
       "      <td>11317</td>\n",
       "      <td>15750</td>\n",
       "      <td>0</td>\n",
       "      <td>1554487781</td>\n",
       "      <td>Sat Apr 18 17:07:53 PDT 2009</td>\n",
       "      <td>NO_QUERY</td>\n",
       "      <td>aferomckinney</td>\n",
       "      <td>@allegromoderato Sounds like a great idea! I n...</td>\n",
       "      <td>aferomckinney allegromoderato sounds like grea...</td>\n",
       "      <td>[181304, 212, 4, 31, 329, 28, 3, 9012, 1076, 7...</td>\n",
       "      <td>14</td>\n",
       "      <td>0</td>\n",
       "    </tr>\n",
       "    <tr>\n",
       "      <td>129371</td>\n",
       "      <td>181133</td>\n",
       "      <td>0</td>\n",
       "      <td>1966765733</td>\n",
       "      <td>Fri May 29 18:21:35 PDT 2009</td>\n",
       "      <td>NO_QUERY</td>\n",
       "      <td>tokyofresh</td>\n",
       "      <td>@vickitHU becuz jose is nasty and @chicitydane...</td>\n",
       "      <td>tokyofresh vickithu becuz jose nasty chicityda...</td>\n",
       "      <td>[123378, 6313, 4541, 1614, 123379, 16370, 171,...</td>\n",
       "      <td>13</td>\n",
       "      <td>0</td>\n",
       "    </tr>\n",
       "    <tr>\n",
       "      <td>1041416</td>\n",
       "      <td>1461162</td>\n",
       "      <td>4</td>\n",
       "      <td>2063908495</td>\n",
       "      <td>Sun Jun 07 04:32:34 PDT 2009</td>\n",
       "      <td>NO_QUERY</td>\n",
       "      <td>meganalqueza</td>\n",
       "      <td>YAY  Back home from the mall. man, I'm tired</td>\n",
       "      <td>meganalqueza yay back home mall man tired</td>\n",
       "      <td>[129, 14, 25, 1082, 109, 105]</td>\n",
       "      <td>6</td>\n",
       "      <td>1</td>\n",
       "    </tr>\n",
       "  </tbody>\n",
       "</table>\n",
       "</div>"
      ],
      "text/plain": [
       "         Unnamed: 0  target         ids                          date  \\\n",
       "539763       755727       0  2288425922  Mon Jun 22 19:08:48 PDT 2009   \n",
       "159816       224031       0  1977327140  Sat May 30 20:42:31 PDT 2009   \n",
       "11317         15750       0  1554487781  Sat Apr 18 17:07:53 PDT 2009   \n",
       "129371       181133       0  1966765733  Fri May 29 18:21:35 PDT 2009   \n",
       "1041416     1461162       4  2063908495  Sun Jun 07 04:32:34 PDT 2009   \n",
       "\n",
       "             flag           user  \\\n",
       "539763   NO_QUERY  mariantoinett   \n",
       "159816   NO_QUERY   oneoftherobs   \n",
       "11317    NO_QUERY  aferomckinney   \n",
       "129371   NO_QUERY     tokyofresh   \n",
       "1041416  NO_QUERY   meganalqueza   \n",
       "\n",
       "                                                      text  \\\n",
       "539763   @jnicole80  going away party   I just thought ...   \n",
       "159816   @KristinaDeFonte I'm so sorry, I just got home...   \n",
       "11317    @allegromoderato Sounds like a great idea! I n...   \n",
       "129371   @vickitHU becuz jose is nasty and @chicitydane...   \n",
       "1041416      YAY  Back home from the mall. man, I'm tired    \n",
       "\n",
       "                                              text_cleaned  \\\n",
       "539763   mariantoinett jnicole going away party thought...   \n",
       "159816   oneoftherobs kristinadefonte sorry got home li...   \n",
       "11317    aferomckinney allegromoderato sounds like grea...   \n",
       "129371   tokyofresh vickithu becuz jose nasty chicityda...   \n",
       "1041416         meganalqueza yay back home mall man tired    \n",
       "\n",
       "                                                     words  word_length  c2id  \n",
       "539763   [302915, 9, 128, 185, 143, 600, 13, 123, 101, ...           14     0  \n",
       "159816   [214481, 57, 6, 25, 4, 418, 314, 17, 235, 51, ...           14     0  \n",
       "11317    [181304, 212, 4, 31, 329, 28, 3, 9012, 1076, 7...           14     0  \n",
       "129371   [123378, 6313, 4541, 1614, 123379, 16370, 171,...           13     0  \n",
       "1041416                      [129, 14, 25, 1082, 109, 105]            6     1  "
      ]
     },
     "execution_count": 12,
     "metadata": {},
     "output_type": "execute_result"
    }
   ],
   "source": [
    "test.head()\n",
    "#(0 = negative, 2 = neutral, 4 = positive)"
   ]
  },
  {
   "cell_type": "markdown",
   "metadata": {
    "_cell_guid": "71718f91-ec73-de31-7dbe-f07444d435f1"
   },
   "source": []
  },
  {
   "cell_type": "code",
   "execution_count": null,
   "metadata": {
    "_cell_guid": "4813043f-73fb-3474-f7f6-18b45f3543fd"
   },
   "outputs": [],
   "source": [
    "# 转换成list，方便特征提取\n",
    "#跳过这一步，上面用大数据及的话这一步跳过\n",
    "train_clean_tweet=[]\n",
    "for tweet in train['clean_tweet']:\n",
    "    train_clean_tweet.append(tweet)\n",
    "test_clean_tweet=[]\n",
    "for tweet in test['clean_tweet']:\n",
    "    test_clean_tweet.append(tweet)"
   ]
  },
  {
   "cell_type": "markdown",
   "metadata": {},
   "source": [
    "[](http://)特征提取：参考文档：https://scikit-learn.org/stable/modules/feature_extraction.html#text-feature-extraction"
   ]
  },
  {
   "cell_type": "markdown",
   "metadata": {},
   "source": []
  },
  {
   "cell_type": "code",
   "execution_count": 16,
   "metadata": {
    "_cell_guid": "3e2be258-a9a9-9415-3d51-58f32413247e"
   },
   "outputs": [],
   "source": [
    "from sklearn.feature_extraction.text import CountVectorizer\n",
    "v = CountVectorizer(analyzer = \"word\")\n",
    "train_features= v.fit_transform(train_clean_tweet)\n",
    "test_features=v.transform(test_clean_tweet)"
   ]
  },
  {
   "cell_type": "code",
   "execution_count": 17,
   "metadata": {},
   "outputs": [
    {
     "data": {
      "text/plain": [
       "<911870x709768 sparse matrix of type '<class 'numpy.int64'>'\n",
       "\twith 9057395 stored elements in Compressed Sparse Row format>"
      ]
     },
     "execution_count": 17,
     "metadata": {},
     "output_type": "execute_result"
    }
   ],
   "source": [
    "train_features"
   ]
  },
  {
   "cell_type": "code",
   "execution_count": null,
   "metadata": {},
   "outputs": [],
   "source": []
  },
  {
   "cell_type": "code",
   "execution_count": 18,
   "metadata": {
    "_cell_guid": "5752b349-7f4f-aa5e-9a07-c577e475d3a4"
   },
   "outputs": [],
   "source": [
    "from sklearn.linear_model import LogisticRegression\n",
    "from sklearn.neighbors import KNeighborsClassifier\n",
    "from sklearn.svm import SVC, LinearSVC, NuSVC\n",
    "from sklearn.tree import DecisionTreeClassifier\n",
    "from sklearn.ensemble import RandomForestClassifier, AdaBoostClassifier, GradientBoostingClassifier\n",
    "from sklearn.naive_bayes import GaussianNB\n",
    "from sklearn.discriminant_analysis import LinearDiscriminantAnalysis\n",
    "from sklearn.discriminant_analysis import QuadraticDiscriminantAnalysis\n",
    "from sklearn.metrics import accuracy_score\n",
    "from xgboost import XGBClassifier\n",
    "from sklearn.metrics import accuracy_score\n",
    "from sklearn.neural_network import MLPClassifier\n",
    "from sklearn.ensemble import GradientBoostingClassifier\n",
    "from sklearn.discriminant_analysis import LinearDiscriminantAnalysis\n",
    "import matplotlib.pyplot as plt\n",
    "from itertools import cycle\n",
    "\n",
    "from sklearn import svm, datasets\n",
    "from sklearn.metrics import roc_curve, auc\n",
    "from sklearn.model_selection import train_test_split\n",
    "from sklearn.preprocessing import label_binarize\n",
    "from sklearn.multiclass import OneVsRestClassifier\n",
    "from scipy import interp\n",
    "from sklearn.metrics import roc_auc_score\n",
    "from sklearn.metrics import classification_report"
   ]
  },
  {
   "cell_type": "code",
   "execution_count": 10,
   "metadata": {
    "_cell_guid": "9c491112-34ec-e23f-8301-bf5491ef7416"
   },
   "outputs": [],
   "source": [
    "Classifiers = [\n",
    "    LogisticRegression(C=0.000000001,solver='liblinear',max_iter=200),\n",
    "    KNeighborsClassifier(3),\n",
    "    SVC(kernel=\"rbf\", C=0.025, probability=True),\n",
    "    DecisionTreeClassifier(),\n",
    "    RandomForestClassifier(n_estimators=200),\n",
    "    AdaBoostClassifier(),\n",
    "    GaussianNB(),\n",
    "    XGBClassifier(),\n",
    "    MLPClassifier(solver='sgd', alpha=1e-5,\n",
    "       hidden_layer_sizes=(5, 2), random_state=1, max_iter=500),\n",
    "    GradientBoostingClassifier(random_state=0)\n",
    "    \n",
    "]#gpu不能一次性加载这么多模型兵训练"
   ]
  },
  {
   "cell_type": "code",
   "execution_count": 16,
   "metadata": {},
   "outputs": [],
   "source": []
  },
  {
   "cell_type": "code",
   "execution_count": 19,
   "metadata": {},
   "outputs": [
    {
     "data": {
      "text/plain": [
       "8"
      ]
     },
     "execution_count": 19,
     "metadata": {},
     "output_type": "execute_result"
    }
   ],
   "source": [
    "import gc\n",
    "gc.collect()"
   ]
  },
  {
   "cell_type": "code",
   "execution_count": null,
   "metadata": {},
   "outputs": [],
   "source": []
  },
  {
   "cell_type": "code",
   "execution_count": null,
   "metadata": {},
   "outputs": [],
   "source": [
    "dense_features=train_features.toarray()\n",
    "dense_test= test_features.toarray()\n",
    "Accuracy=[]\n",
    "Model=[]\n",
    "for classifier in Classifiers:\n",
    "    try:\n",
    "        fit = classifier.fit(train_features,train['sentiment'])\n",
    "        pred = fit.predict(test_features)\n",
    "    except Exception:\n",
    "        fit = classifier.fit(dense_features,train['sentiment'])\n",
    "        pred = fit.predict(dense_test)\n",
    "    predictions = [round(value) for value in pred]\n",
    "    accuracy = accuracy_score(test['sentiment'],predictions)\n",
    "    print(classification_report(test.sentiment,  predictions, labels=[0,2,4]))\n",
    "    Accuracy.append(accuracy)\n",
    "    Model.append(classifier.__class__.__name__)\n",
    "    print('Accuracy of '+classifier.__class__.__name__+ ' is: '+str(accuracy))    "
   ]
  },
  {
   "cell_type": "code",
   "execution_count": null,
   "metadata": {},
   "outputs": [],
   "source": []
  },
  {
   "cell_type": "code",
   "execution_count": null,
   "metadata": {},
   "outputs": [],
   "source": []
  },
  {
   "cell_type": "code",
   "execution_count": null,
   "metadata": {},
   "outputs": [],
   "source": []
  },
  {
   "cell_type": "code",
   "execution_count": null,
   "metadata": {},
   "outputs": [],
   "source": []
  },
  {
   "cell_type": "code",
   "execution_count": 12,
   "metadata": {},
   "outputs": [],
   "source": [
    "#X = p_df2.words.values.tolist()\n",
    "X= v.fit_transform(p_df2.text_cleaned.tolist())\n",
    "y = p_df2.target.values.tolist()\n"
   ]
  },
  {
   "cell_type": "code",
   "execution_count": 13,
   "metadata": {},
   "outputs": [],
   "source": [
    "y = label_binarize(y, classes=[0, 2, 4])\n",
    "n_classes = y.shape[1]"
   ]
  },
  {
   "cell_type": "code",
   "execution_count": 14,
   "metadata": {},
   "outputs": [
    {
     "data": {
      "text/plain": [
       "3"
      ]
     },
     "execution_count": 14,
     "metadata": {},
     "output_type": "execute_result"
    }
   ],
   "source": [
    "n_classes"
   ]
  },
  {
   "cell_type": "code",
   "execution_count": 15,
   "metadata": {},
   "outputs": [],
   "source": [
    "\n",
    "X_train, X_test, y_train, y_test = train_test_split(X, y, test_size=0.33, random_state=0)"
   ]
  },
  {
   "cell_type": "code",
   "execution_count": 16,
   "metadata": {},
   "outputs": [
    {
     "data": {
      "text/plain": [
       "(763691, 811225)"
      ]
     },
     "execution_count": 16,
     "metadata": {},
     "output_type": "execute_result"
    }
   ],
   "source": [
    "X_train.shape"
   ]
  },
  {
   "cell_type": "code",
   "execution_count": 37,
   "metadata": {},
   "outputs": [
    {
     "data": {
      "text/plain": [
       "array([[1, 0, 0],\n",
       "       [1, 0, 0],\n",
       "       [0, 0, 1],\n",
       "       ...,\n",
       "       [0, 0, 1],\n",
       "       [1, 0, 0],\n",
       "       [1, 0, 0]])"
      ]
     },
     "execution_count": 37,
     "metadata": {},
     "output_type": "execute_result"
    }
   ],
   "source": [
    "y_train"
   ]
  },
  {
   "cell_type": "code",
   "execution_count": null,
   "metadata": {},
   "outputs": [],
   "source": []
  },
  {
   "cell_type": "code",
   "execution_count": 20,
   "metadata": {},
   "outputs": [],
   "source": [
    "from sklearn.metrics import roc_auc_score\n",
    "import numpy as np\n",
    "test_target = label_binarize(test.target, classes=[0,4])"
   ]
  },
  {
   "cell_type": "code",
   "execution_count": 16,
   "metadata": {},
   "outputs": [
    {
     "name": "stdout",
     "output_type": "stream",
     "text": [
      "ROC-AUC of LR is: 0.8391018388057561\n",
      "Accuracy of LR is: 0.7632255404267265\n"
     ]
    },
    {
     "name": "stderr",
     "output_type": "stream",
     "text": [
      "C:\\Apps\\Anaconda3\\envs\\gpu-cuda10\\lib\\site-packages\\sklearn\\metrics\\classification.py:1437: UndefinedMetricWarning: Precision and F-score are ill-defined and being set to 0.0 in labels with no predicted samples.\n",
      "  'precision', 'predicted', average, warn_for)\n",
      "C:\\Apps\\Anaconda3\\envs\\gpu-cuda10\\lib\\site-packages\\sklearn\\metrics\\classification.py:1439: UndefinedMetricWarning: Recall and F-score are ill-defined and being set to 0.0 in labels with no true samples.\n",
      "  'recall', 'true', average, warn_for)\n"
     ]
    },
    {
     "name": "stdout",
     "output_type": "stream",
     "text": [
      "              precision    recall  f1-score   support\n",
      "\n",
      "           0       0.78      0.74      0.76    114395\n",
      "           2       0.00      0.00      0.00         0\n",
      "           4       0.75      0.78      0.77    113573\n",
      "\n",
      "   micro avg       0.76      0.76      0.76    227968\n",
      "   macro avg       0.51      0.51      0.51    227968\n",
      "weighted avg       0.76      0.76      0.76    227968\n",
      "\n"
     ]
    }
   ],
   "source": [
    "lr = LogisticRegression(C=0.01,solver='liblinear',max_iter=200)\n",
    "model = lr.fit(train_features,train['target'])\n",
    "preds = model.predict(test_features)\n",
    "probs = model.predict_proba(test_features)\n",
    "#lr_score = lrmodel.decision_function(test_features)\n",
    "#predictions = [int(value) for value in preds]\n",
    "\n",
    "lr_accuracy = accuracy_score(test['target'], preds)\n",
    "\n",
    "\n",
    "lr_fpr, lr_tpr, theshold = roc_curve(test_target, probs[:,1])\n",
    "#print(roc_auc_score(test_target, lr_probs[:,1]))\n",
    "#print(roc_auc_score(test_target, lr_probs[:,0]))\n",
    "print('ROC-AUC of LR is: ' +  str(auc(lr_fpr, lr_tpr)))\n",
    "print('Accuracy of LR is: '+ str(lr_accuracy)) \n",
    "print(classification_report(test.target, preds, labels=[0,2,4]))\n",
    "np.save('lr_fpr.npy', lr_fpr)\n",
    "np.save('lr_tpr.npy', lr_tpr)"
   ]
  },
  {
   "cell_type": "code",
   "execution_count": null,
   "metadata": {},
   "outputs": [],
   "source": []
  },
  {
   "cell_type": "code",
   "execution_count": 21,
   "metadata": {},
   "outputs": [
    {
     "name": "stdout",
     "output_type": "stream",
     "text": [
      "ROC-AUC of KNeighborsClassifier is: 0.6992176418129339\n",
      "Accuracy of KNeighborsClassifier is: 0.646077519651881\n"
     ]
    },
    {
     "name": "stderr",
     "output_type": "stream",
     "text": [
      "C:\\Apps\\Anaconda3\\envs\\gpu-cuda10\\lib\\site-packages\\sklearn\\metrics\\classification.py:1437: UndefinedMetricWarning: Precision and F-score are ill-defined and being set to 0.0 in labels with no predicted samples.\n",
      "  'precision', 'predicted', average, warn_for)\n",
      "C:\\Apps\\Anaconda3\\envs\\gpu-cuda10\\lib\\site-packages\\sklearn\\metrics\\classification.py:1439: UndefinedMetricWarning: Recall and F-score are ill-defined and being set to 0.0 in labels with no true samples.\n",
      "  'recall', 'true', average, warn_for)\n"
     ]
    },
    {
     "name": "stdout",
     "output_type": "stream",
     "text": [
      "              precision    recall  f1-score   support\n",
      "\n",
      "           0       0.61      0.83      0.70    114395\n",
      "           2       0.00      0.00      0.00         0\n",
      "           4       0.73      0.46      0.57    113573\n",
      "\n",
      "   micro avg       0.65      0.65      0.65    227968\n",
      "   macro avg       0.45      0.43      0.42    227968\n",
      "weighted avg       0.67      0.65      0.63    227968\n",
      "\n"
     ]
    }
   ],
   "source": [
    "knn = KNeighborsClassifier(2)\n",
    "model = knn.fit(train_features,train['target'])\n",
    "preds = model.predict(test_features)\n",
    "probs = model.predict_proba(test_features)\n",
    "#lr_score = lrmodel.decision_function(test_features)\n",
    "#predictions = [round(value) for value in preds]\n",
    "\n",
    "knn_acc = accuracy_score(test.target, preds)\n",
    "#test_target = label_binarize(test.target, classes=[0,4])\n",
    "knn_fpr, knn_tpr, theshold = roc_curve(test_target, probs[:,1])\n",
    "\n",
    "print('ROC-AUC of KNeighborsClassifier is: ' +  str(auc(knn_fpr, knn_tpr)))\n",
    "print('Accuracy of KNeighborsClassifier is: '+ str(knn_acc)) \n",
    "print(classification_report(test.target, preds, labels=[0,2,4]))\n",
    "np.save('knn_fpr.npy', knn_fpr)\n",
    "np.save('knn_tpr.npy', knn_tpr)"
   ]
  },
  {
   "cell_type": "code",
   "execution_count": 23,
   "metadata": {},
   "outputs": [
    {
     "name": "stdout",
     "output_type": "stream",
     "text": [
      "ROC-AUC of KNeighborsClassifier is: 0.7114885076396591\n",
      "Accuracy of KNeighborsClassifier is: 0.7114331836047164\n"
     ]
    },
    {
     "name": "stderr",
     "output_type": "stream",
     "text": [
      "C:\\Apps\\Anaconda3\\envs\\gpu-cuda10\\lib\\site-packages\\sklearn\\metrics\\classification.py:1437: UndefinedMetricWarning: Precision and F-score are ill-defined and being set to 0.0 in labels with no predicted samples.\n",
      "  'precision', 'predicted', average, warn_for)\n",
      "C:\\Apps\\Anaconda3\\envs\\gpu-cuda10\\lib\\site-packages\\sklearn\\metrics\\classification.py:1439: UndefinedMetricWarning: Recall and F-score are ill-defined and being set to 0.0 in labels with no true samples.\n",
      "  'recall', 'true', average, warn_for)\n"
     ]
    },
    {
     "name": "stdout",
     "output_type": "stream",
     "text": [
      "              precision    recall  f1-score   support\n",
      "\n",
      "           0       0.71      0.71      0.71    114395\n",
      "           2       0.00      0.00      0.00         0\n",
      "           4       0.71      0.71      0.71    113573\n",
      "\n",
      "   micro avg       0.71      0.71      0.71    227968\n",
      "   macro avg       0.47      0.47      0.47    227968\n",
      "weighted avg       0.71      0.71      0.71    227968\n",
      "\n"
     ]
    }
   ],
   "source": [
    "dt = DecisionTreeClassifier()\n",
    "model = dt.fit(train_features,train['target'])\n",
    "preds = model.predict(test_features)\n",
    "probs = model.predict_proba(test_features)\n",
    "#lr_score = lrmodel.decision_function(test_features)\n",
    "#predictions = [round(value) for value in preds]\n",
    "\n",
    "dt_acc = accuracy_score(test.target, preds)\n",
    "#test_target = label_binarize(test.target, classes=[0,4])\n",
    "dt_fpr, dt_tpr, theshold = roc_curve(test_target, probs[:,1])\n",
    "\n",
    "print('ROC-AUC of KNeighborsClassifier is: ' +  str(auc(dt_fpr, dt_tpr)))\n",
    "print('Accuracy of KNeighborsClassifier is: '+ str(dt_acc)) \n",
    "print(classification_report(test.target, preds, labels=[0,2,4]))\n",
    "np.save('dt_fpr.npy', dt_fpr)\n",
    "np.save('dt_tpr.npy', dt_tpr)"
   ]
  },
  {
   "cell_type": "code",
   "execution_count": null,
   "metadata": {},
   "outputs": [],
   "source": [
    "\n"
   ]
  },
  {
   "cell_type": "code",
   "execution_count": 17,
   "metadata": {},
   "outputs": [
    {
     "name": "stdout",
     "output_type": "stream",
     "text": [
      "ROC-AUC of RandomForestClassifier is: 0.7912841533189465\n",
      "Accuracy of RandomForestClassifier is: 0.6975233366086468\n"
     ]
    },
    {
     "name": "stderr",
     "output_type": "stream",
     "text": [
      "C:\\Apps\\Anaconda3\\envs\\gpu-cuda10\\lib\\site-packages\\sklearn\\metrics\\classification.py:1437: UndefinedMetricWarning: Precision and F-score are ill-defined and being set to 0.0 in labels with no predicted samples.\n",
      "  'precision', 'predicted', average, warn_for)\n",
      "C:\\Apps\\Anaconda3\\envs\\gpu-cuda10\\lib\\site-packages\\sklearn\\metrics\\classification.py:1439: UndefinedMetricWarning: Recall and F-score are ill-defined and being set to 0.0 in labels with no true samples.\n",
      "  'recall', 'true', average, warn_for)\n"
     ]
    },
    {
     "name": "stdout",
     "output_type": "stream",
     "text": [
      "              precision    recall  f1-score   support\n",
      "\n",
      "           0       0.65      0.84      0.74    114395\n",
      "           2       0.00      0.00      0.00         0\n",
      "           4       0.78      0.55      0.64    113573\n",
      "\n",
      "   micro avg       0.70      0.70      0.70    227968\n",
      "   macro avg       0.48      0.46      0.46    227968\n",
      "weighted avg       0.72      0.70      0.69    227968\n",
      "\n"
     ]
    }
   ],
   "source": [
    "rf = RandomForestClassifier(n_estimators=200, max_depth=10, random_state=2 )\n",
    "model = rf.fit(train_features,train['target'])\n",
    "preds = model.predict(test_features)\n",
    "probs = model.predict_proba(test_features)\n",
    "#lr_score = lrmodel.decision_function(test_features)\n",
    "#predictions = [round(value) for value in preds]\n",
    "\n",
    "rf_acc = accuracy_score(test.target, preds)\n",
    "#test_target = label_binarize(test.target, classes=[0,4])\n",
    "rf_fpr, rf_tpr, theshold = roc_curve(test_target, probs[:,1])\n",
    "\n",
    "print('ROC-AUC of RandomForestClassifier is: ' +  str(auc(rf_fpr, rf_tpr)))\n",
    "print('Accuracy of RandomForestClassifier is: '+ str(rf_acc)) \n",
    "print(classification_report(test.target, preds, labels=[0,2,4]))\n",
    "np.save('rf_fpr.npy', rf_fpr)\n",
    "np.save('rf_tpr.npy', rf_tpr)"
   ]
  },
  {
   "cell_type": "code",
   "execution_count": null,
   "metadata": {},
   "outputs": [],
   "source": [
    "#svc = SVC(kernel=\"rbf\", C=0.025, probability=True)\n",
    "svc = SVC(kernel='rbf',C=0.01,gamma=0.1)\n",
    "model = svc.fit(train_features,train['target'])\n",
    "preds = model.predict(test_features)\n",
    "probs = model.predict_proba(test_features)\n",
    "\n",
    "svc_acc = accuracy_score(test.target, preds)\n",
    "\n",
    "test_target = label_binarize(test.target, classes=[0,4])\n",
    "svc_fpr, svc_tpr, theshold = roc_curve(test_target, preds)\n",
    "\n",
    "\n",
    "print('ROC-AUC of SVC is: ' +  str(auc(svc_fpr, svc_tpr)))\n",
    "print('Accuracy of SVC is: '+ str(svc_acc)) \n",
    "print(classification_report(test.target, preds, labels=[0,2,4]))\n",
    "np.save('ada_fpr.npy', ada_fpr)\n",
    "np.save('ada_tpr.npy', ada_tpr)"
   ]
  },
  {
   "cell_type": "code",
   "execution_count": null,
   "metadata": {},
   "outputs": [],
   "source": []
  },
  {
   "cell_type": "code",
   "execution_count": 20,
   "metadata": {},
   "outputs": [
    {
     "name": "stdout",
     "output_type": "stream",
     "text": [
      "ROC-AUC of AdaBoostClassifier is: 0.6521160491305521\n",
      "Accuracy of AdaBoostClassifier is: 0.6513370297585626\n"
     ]
    },
    {
     "name": "stderr",
     "output_type": "stream",
     "text": [
      "C:\\Apps\\Anaconda3\\envs\\gpu-cuda10\\lib\\site-packages\\sklearn\\metrics\\classification.py:1437: UndefinedMetricWarning: Precision and F-score are ill-defined and being set to 0.0 in labels with no predicted samples.\n",
      "  'precision', 'predicted', average, warn_for)\n",
      "C:\\Apps\\Anaconda3\\envs\\gpu-cuda10\\lib\\site-packages\\sklearn\\metrics\\classification.py:1439: UndefinedMetricWarning: Recall and F-score are ill-defined and being set to 0.0 in labels with no true samples.\n",
      "  'recall', 'true', average, warn_for)\n"
     ]
    },
    {
     "name": "stdout",
     "output_type": "stream",
     "text": [
      "              precision    recall  f1-score   support\n",
      "\n",
      "           0       0.77      0.44      0.56    114395\n",
      "           2       0.00      0.00      0.00         0\n",
      "           4       0.60      0.87      0.71    113573\n",
      "\n",
      "   micro avg       0.65      0.65      0.65    227968\n",
      "   macro avg       0.46      0.43      0.42    227968\n",
      "weighted avg       0.69      0.65      0.63    227968\n",
      "\n"
     ]
    }
   ],
   "source": [
    "ada = AdaBoostClassifier()\n",
    "model = ada.fit(train_features,train['target'])\n",
    "preds = model.predict(test_features)\n",
    "probs = model.predict_proba(test_features)\n",
    "#lr_score = lrmodel.decision_function(test_features)\n",
    "#predictions = [round(value) for value in preds]\n",
    "\n",
    "ada_acc = accuracy_score(test.target, preds)\n",
    "ada_fpr, ada_tpr, theshold = roc_curve(test_target, preds)\n",
    "\n",
    "\n",
    "print('ROC-AUC of AdaBoostClassifier is: ' +  str(auc(ada_fpr, ada_tpr)))\n",
    "print('Accuracy of AdaBoostClassifier is: '+ str(ada_acc)) \n",
    "print(classification_report(test.target, preds, labels=[0,2,4]))\n",
    "np.save('ada_fpr.npy', ada_fpr)\n",
    "np.save('ada_tpr.npy', ada_tpr)"
   ]
  },
  {
   "cell_type": "code",
   "execution_count": null,
   "metadata": {},
   "outputs": [],
   "source": [
    "dense_features=train_features.toarray()\n",
    "dense_test= test_features.toarray()\n",
    "\n",
    "gnb = GaussianNB()\n",
    "model = gnb.fit(dense_features,train['target'])\n",
    "preds = model.predict(dense_features)\n",
    "probs = model.predict_proba(dense_features)\n",
    "\n",
    "gnb_acc = accuracy_score(test.target, preds)\n",
    "\n",
    "#gnb_score = gnb.decision_function(test_features)\n",
    "#test_target = label_binarize(test.target, classes=[0,4])\n",
    "gnb_fpr, gnb_tpr, theshold = roc_curve(test_target, preds)\n",
    "\n",
    "\n",
    "print('ROC-AUC of GaussianNB is: ' +  str(auc(gnb_fpr, gnb_tpr)))\n",
    "print('Accuracy of GaussianNB is: '+ str(gnb_acc)) \n",
    "print(classification_report(test.target, preds, labels=[0,2,4]))\n",
    "np.save('gnb_fpr.npy', gnb_fpr)\n",
    "np.save('gnb_tpr.npy', gnb_tpr)"
   ]
  },
  {
   "cell_type": "code",
   "execution_count": null,
   "metadata": {},
   "outputs": [],
   "source": [
    "xfbc = XGBClassifier()\n",
    "xfbc_model = ada.fit(train_features, train.target)\n",
    "xfbc_pred = gnb_model.predict(test_features)\n",
    "predictions = [rount(v) for v in xfbc_pred]\n",
    "xfbc_acc = accuracy_score(test.target, predictions)\n",
    "\n",
    "#xfbc_score = xfbc.decision_function(test_features)\n",
    "#test_target = label_binarize(test.target, classes=[0,4])\n",
    "xfbc_fpr, xfbc_tpr, theshold = roc_curve(test_target, predictions)\n",
    "\n",
    "\n",
    "print('ROC-AUC of XGBClassifier is: ' +  str(auc(gnb_fpr, gnb_tpr)))\n",
    "print('Accuracy of XGBClassifier is: '+ str(gnb_acc)) \n",
    "print(classification_report(test.target, predictions, labels=[0,2,4]))"
   ]
  },
  {
   "cell_type": "code",
   "execution_count": 24,
   "metadata": {},
   "outputs": [
    {
     "name": "stderr",
     "output_type": "stream",
     "text": [
      "C:\\Apps\\Anaconda3\\envs\\gpu-cuda10\\lib\\site-packages\\sklearn\\neural_network\\multilayer_perceptron.py:568: UserWarning: Training interrupted by user.\n",
      "  warnings.warn(\"Training interrupted by user.\")\n"
     ]
    },
    {
     "ename": "ValueError",
     "evalue": "Found input variables with inconsistent numbers of samples: [227968, 911870]",
     "output_type": "error",
     "traceback": [
      "\u001b[1;31m---------------------------------------------------------------------------\u001b[0m",
      "\u001b[1;31mValueError\u001b[0m                                Traceback (most recent call last)",
      "\u001b[1;32m<ipython-input-24-85594e7f0fcf>\u001b[0m in \u001b[0;36m<module>\u001b[1;34m\u001b[0m\n\u001b[0;32m      4\u001b[0m \u001b[0mprobs\u001b[0m \u001b[1;33m=\u001b[0m \u001b[0mmodel\u001b[0m\u001b[1;33m.\u001b[0m\u001b[0mpredict_proba\u001b[0m\u001b[1;33m(\u001b[0m\u001b[0mtrain_features\u001b[0m\u001b[1;33m)\u001b[0m\u001b[1;33m\u001b[0m\u001b[1;33m\u001b[0m\u001b[0m\n\u001b[0;32m      5\u001b[0m \u001b[1;33m\u001b[0m\u001b[0m\n\u001b[1;32m----> 6\u001b[1;33m \u001b[0mmlp_acc\u001b[0m \u001b[1;33m=\u001b[0m \u001b[0maccuracy_score\u001b[0m\u001b[1;33m(\u001b[0m\u001b[0mtest\u001b[0m\u001b[1;33m.\u001b[0m\u001b[0mtarget\u001b[0m\u001b[1;33m,\u001b[0m \u001b[0mpreds\u001b[0m\u001b[1;33m)\u001b[0m\u001b[1;33m\u001b[0m\u001b[1;33m\u001b[0m\u001b[0m\n\u001b[0m\u001b[0;32m      7\u001b[0m \u001b[0mmlp_fpr\u001b[0m\u001b[1;33m,\u001b[0m \u001b[0mmlp_tpr\u001b[0m\u001b[1;33m,\u001b[0m \u001b[0mtheshold\u001b[0m \u001b[1;33m=\u001b[0m \u001b[0mroc_curve\u001b[0m\u001b[1;33m(\u001b[0m\u001b[0mtest_target\u001b[0m\u001b[1;33m,\u001b[0m \u001b[0mpreds\u001b[0m\u001b[1;33m)\u001b[0m\u001b[1;33m\u001b[0m\u001b[1;33m\u001b[0m\u001b[0m\n\u001b[0;32m      8\u001b[0m \u001b[1;33m\u001b[0m\u001b[0m\n",
      "\u001b[1;32mC:\\Apps\\Anaconda3\\envs\\gpu-cuda10\\lib\\site-packages\\sklearn\\metrics\\classification.py\u001b[0m in \u001b[0;36maccuracy_score\u001b[1;34m(y_true, y_pred, normalize, sample_weight)\u001b[0m\n\u001b[0;32m    174\u001b[0m \u001b[1;33m\u001b[0m\u001b[0m\n\u001b[0;32m    175\u001b[0m     \u001b[1;31m# Compute accuracy for each possible representation\u001b[0m\u001b[1;33m\u001b[0m\u001b[1;33m\u001b[0m\u001b[1;33m\u001b[0m\u001b[0m\n\u001b[1;32m--> 176\u001b[1;33m     \u001b[0my_type\u001b[0m\u001b[1;33m,\u001b[0m \u001b[0my_true\u001b[0m\u001b[1;33m,\u001b[0m \u001b[0my_pred\u001b[0m \u001b[1;33m=\u001b[0m \u001b[0m_check_targets\u001b[0m\u001b[1;33m(\u001b[0m\u001b[0my_true\u001b[0m\u001b[1;33m,\u001b[0m \u001b[0my_pred\u001b[0m\u001b[1;33m)\u001b[0m\u001b[1;33m\u001b[0m\u001b[1;33m\u001b[0m\u001b[0m\n\u001b[0m\u001b[0;32m    177\u001b[0m     \u001b[0mcheck_consistent_length\u001b[0m\u001b[1;33m(\u001b[0m\u001b[0my_true\u001b[0m\u001b[1;33m,\u001b[0m \u001b[0my_pred\u001b[0m\u001b[1;33m,\u001b[0m \u001b[0msample_weight\u001b[0m\u001b[1;33m)\u001b[0m\u001b[1;33m\u001b[0m\u001b[1;33m\u001b[0m\u001b[0m\n\u001b[0;32m    178\u001b[0m     \u001b[1;32mif\u001b[0m \u001b[0my_type\u001b[0m\u001b[1;33m.\u001b[0m\u001b[0mstartswith\u001b[0m\u001b[1;33m(\u001b[0m\u001b[1;34m'multilabel'\u001b[0m\u001b[1;33m)\u001b[0m\u001b[1;33m:\u001b[0m\u001b[1;33m\u001b[0m\u001b[1;33m\u001b[0m\u001b[0m\n",
      "\u001b[1;32mC:\\Apps\\Anaconda3\\envs\\gpu-cuda10\\lib\\site-packages\\sklearn\\metrics\\classification.py\u001b[0m in \u001b[0;36m_check_targets\u001b[1;34m(y_true, y_pred)\u001b[0m\n\u001b[0;32m     69\u001b[0m     \u001b[0my_pred\u001b[0m \u001b[1;33m:\u001b[0m \u001b[0marray\u001b[0m \u001b[1;32mor\u001b[0m \u001b[0mindicator\u001b[0m \u001b[0mmatrix\u001b[0m\u001b[1;33m\u001b[0m\u001b[1;33m\u001b[0m\u001b[0m\n\u001b[0;32m     70\u001b[0m     \"\"\"\n\u001b[1;32m---> 71\u001b[1;33m     \u001b[0mcheck_consistent_length\u001b[0m\u001b[1;33m(\u001b[0m\u001b[0my_true\u001b[0m\u001b[1;33m,\u001b[0m \u001b[0my_pred\u001b[0m\u001b[1;33m)\u001b[0m\u001b[1;33m\u001b[0m\u001b[1;33m\u001b[0m\u001b[0m\n\u001b[0m\u001b[0;32m     72\u001b[0m     \u001b[0mtype_true\u001b[0m \u001b[1;33m=\u001b[0m \u001b[0mtype_of_target\u001b[0m\u001b[1;33m(\u001b[0m\u001b[0my_true\u001b[0m\u001b[1;33m)\u001b[0m\u001b[1;33m\u001b[0m\u001b[1;33m\u001b[0m\u001b[0m\n\u001b[0;32m     73\u001b[0m     \u001b[0mtype_pred\u001b[0m \u001b[1;33m=\u001b[0m \u001b[0mtype_of_target\u001b[0m\u001b[1;33m(\u001b[0m\u001b[0my_pred\u001b[0m\u001b[1;33m)\u001b[0m\u001b[1;33m\u001b[0m\u001b[1;33m\u001b[0m\u001b[0m\n",
      "\u001b[1;32mC:\\Apps\\Anaconda3\\envs\\gpu-cuda10\\lib\\site-packages\\sklearn\\utils\\validation.py\u001b[0m in \u001b[0;36mcheck_consistent_length\u001b[1;34m(*arrays)\u001b[0m\n\u001b[0;32m    203\u001b[0m     \u001b[1;32mif\u001b[0m \u001b[0mlen\u001b[0m\u001b[1;33m(\u001b[0m\u001b[0muniques\u001b[0m\u001b[1;33m)\u001b[0m \u001b[1;33m>\u001b[0m \u001b[1;36m1\u001b[0m\u001b[1;33m:\u001b[0m\u001b[1;33m\u001b[0m\u001b[1;33m\u001b[0m\u001b[0m\n\u001b[0;32m    204\u001b[0m         raise ValueError(\"Found input variables with inconsistent numbers of\"\n\u001b[1;32m--> 205\u001b[1;33m                          \" samples: %r\" % [int(l) for l in lengths])\n\u001b[0m\u001b[0;32m    206\u001b[0m \u001b[1;33m\u001b[0m\u001b[0m\n\u001b[0;32m    207\u001b[0m \u001b[1;33m\u001b[0m\u001b[0m\n",
      "\u001b[1;31mValueError\u001b[0m: Found input variables with inconsistent numbers of samples: [227968, 911870]"
     ]
    }
   ],
   "source": [
    "mlp = MLPClassifier(solver='sgd', alpha=1e-5, hidden_layer_sizes=(5, 2), random_state=1, max_iter=500)\n",
    "model = mlp.fit(train_features,train['target'])\n",
    "preds = model.predict(train_features)\n",
    "probs = model.predict_proba(train_features)\n",
    "\n",
    "mlp_acc = accuracy_score(test.target, preds)\n",
    "mlp_fpr, mlp_tpr, theshold = roc_curve(test_target, preds)\n",
    "\n",
    "\n",
    "print('ROC-AUC of MLPClassifier is: ' +  str(auc(mlp_fpr, mlp_tpr)))\n",
    "print('Accuracy of MLPClassifier is: '+ str(mlp_acc)) \n",
    "print(classification_report(test.target, preds, labels=[0,2,4]))"
   ]
  },
  {
   "cell_type": "code",
   "execution_count": null,
   "metadata": {},
   "outputs": [],
   "source": [
    "gbc = GradientBoostingClassifier(random_state=0)\n",
    "gbc_model = ada.fit(train_features, train.target)\n",
    "gbc_pred = gnb_model.predict(test_features)\n",
    "predictions = [rount(v) for v in gbc_pred]\n",
    "#gbc_acc = accuracy_score(test.target, predictions)\n",
    "\n",
    "gbc_score = gbc.decision_function(test_features)\n",
    "#test_target = label_binarize(test.target, classes=[0,4])\n",
    "gbc_fpr, gbc_tpr, theshold = roc_curve(test_target, predictions)\n",
    "\n",
    "\n",
    "print('ROC-AUC of GradientBoostingClassifier is: ' +  str(auc(gbc_fpr, gbc_tpr)))\n",
    "print('Accuracy of GradientBoostingClassifier is: '+ str(gbc_acc)) \n",
    "print(classification_report(test.target, predictions, labels=[0,2,4]))"
   ]
  },
  {
   "cell_type": "code",
   "execution_count": null,
   "metadata": {},
   "outputs": [],
   "source": [
    "path = r'\\\\filestore.soton.ac.uk\\users\\ly1u19\\mydocuments\\temp'\n",
    "knn_fpt"
   ]
  },
  {
   "cell_type": "code",
   "execution_count": 30,
   "metadata": {},
   "outputs": [
    {
     "data": {
      "image/png": "[encoded data removed]",
      "text/plain": [
       "<Figure size 432x288 with 1 Axes>"
      ]
     },
     "metadata": {
      "needs_background": "light"
     },
     "output_type": "display_data"
    }
   ],
   "source": [
    "plt.figure()\n",
    "lw = 2\n",
    "plt.plot(lr_fpr, lr_tpr, lw=lw, label='ROC curve (area = %0.2f)' % auc(lr_fpr, lr_tpr))\n",
    "plt.plot(knn_fpr, knn_tpr, lw=lw, label='ROC curve (area = %0.2f)' % auc(knn_fpr, knn_tpr))\n",
    "\n",
    "plt.plot([0, 1], [0, 1], color='navy', lw=lw, linestyle='--')\n",
    "plt.xlim([0.0, 1.0])\n",
    "plt.ylim([0.0, 1.05])\n",
    "plt.xlabel('False Positive Rate')\n",
    "plt.ylabel('True Positive Rate')\n",
    "#plt.title('Receiver operating characteristic example')\n",
    "plt.legend(loc=\"lower right\")\n",
    "plt.grid(True)\n",
    "plt.show()"
   ]
  },
  {
   "cell_type": "code",
   "execution_count": null,
   "metadata": {},
   "outputs": [],
   "source": [
    "\n"
   ]
  },
  {
   "cell_type": "code",
   "execution_count": 21,
   "metadata": {
    "_cell_guid": "3537c590-cc9c-48bf-8a4e-7f0406a564ff"
   },
   "outputs": [
    {
     "ename": "KeyboardInterrupt",
     "evalue": "",
     "output_type": "error",
     "traceback": [
      "\u001b[1;31m---------------------------------------------------------------------------\u001b[0m",
      "\u001b[1;31mKeyboardInterrupt\u001b[0m                         Traceback (most recent call last)",
      "\u001b[1;32m<ipython-input-21-1ff8c394cc1b>\u001b[0m in \u001b[0;36m<module>\u001b[1;34m\u001b[0m\n\u001b[0;32m      1\u001b[0m \u001b[0mknn\u001b[0m \u001b[1;33m=\u001b[0m \u001b[0mKNeighborsClassifier\u001b[0m\u001b[1;33m(\u001b[0m\u001b[1;36m3\u001b[0m\u001b[1;33m)\u001b[0m\u001b[1;33m\u001b[0m\u001b[1;33m\u001b[0m\u001b[0m\n\u001b[0;32m      2\u001b[0m \u001b[0mknn_model\u001b[0m \u001b[1;33m=\u001b[0m \u001b[0mknn\u001b[0m\u001b[1;33m.\u001b[0m\u001b[0mfit\u001b[0m\u001b[1;33m(\u001b[0m\u001b[0mtrain_features\u001b[0m\u001b[1;33m,\u001b[0m \u001b[0mtrain\u001b[0m\u001b[1;33m.\u001b[0m\u001b[0mtarget\u001b[0m\u001b[1;33m)\u001b[0m\u001b[1;33m\u001b[0m\u001b[1;33m\u001b[0m\u001b[0m\n\u001b[1;32m----> 3\u001b[1;33m \u001b[0mknn_pred\u001b[0m \u001b[1;33m=\u001b[0m \u001b[0mknn_model\u001b[0m\u001b[1;33m.\u001b[0m\u001b[0mpredict\u001b[0m\u001b[1;33m(\u001b[0m\u001b[0mtest_features\u001b[0m\u001b[1;33m)\u001b[0m\u001b[1;33m\u001b[0m\u001b[1;33m\u001b[0m\u001b[0m\n\u001b[0m\u001b[0;32m      4\u001b[0m \u001b[0mpredictions\u001b[0m \u001b[1;33m=\u001b[0m \u001b[1;33m[\u001b[0m\u001b[0mround\u001b[0m\u001b[1;33m(\u001b[0m\u001b[0mv\u001b[0m\u001b[1;33m)\u001b[0m \u001b[1;32mfor\u001b[0m \u001b[0mv\u001b[0m \u001b[1;32min\u001b[0m \u001b[0mknn_pred\u001b[0m\u001b[1;33m]\u001b[0m\u001b[1;33m\u001b[0m\u001b[1;33m\u001b[0m\u001b[0m\n\u001b[0;32m      5\u001b[0m \u001b[0mknn_acc\u001b[0m \u001b[1;33m=\u001b[0m \u001b[0maccuracy_score\u001b[0m\u001b[1;33m(\u001b[0m\u001b[0mtest\u001b[0m\u001b[1;33m.\u001b[0m\u001b[0mtarget\u001b[0m\u001b[1;33m,\u001b[0m \u001b[0mpredictions\u001b[0m\u001b[1;33m)\u001b[0m\u001b[1;33m\u001b[0m\u001b[1;33m\u001b[0m\u001b[0m\n",
      "\u001b[1;32mC:\\Apps\\Anaconda3\\envs\\gpu-cuda10\\lib\\site-packages\\sklearn\\neighbors\\classification.py\u001b[0m in \u001b[0;36mpredict\u001b[1;34m(self, X)\u001b[0m\n\u001b[0;32m    147\u001b[0m         \u001b[0mX\u001b[0m \u001b[1;33m=\u001b[0m \u001b[0mcheck_array\u001b[0m\u001b[1;33m(\u001b[0m\u001b[0mX\u001b[0m\u001b[1;33m,\u001b[0m \u001b[0maccept_sparse\u001b[0m\u001b[1;33m=\u001b[0m\u001b[1;34m'csr'\u001b[0m\u001b[1;33m)\u001b[0m\u001b[1;33m\u001b[0m\u001b[1;33m\u001b[0m\u001b[0m\n\u001b[0;32m    148\u001b[0m \u001b[1;33m\u001b[0m\u001b[0m\n\u001b[1;32m--> 149\u001b[1;33m         \u001b[0mneigh_dist\u001b[0m\u001b[1;33m,\u001b[0m \u001b[0mneigh_ind\u001b[0m \u001b[1;33m=\u001b[0m \u001b[0mself\u001b[0m\u001b[1;33m.\u001b[0m\u001b[0mkneighbors\u001b[0m\u001b[1;33m(\u001b[0m\u001b[0mX\u001b[0m\u001b[1;33m)\u001b[0m\u001b[1;33m\u001b[0m\u001b[1;33m\u001b[0m\u001b[0m\n\u001b[0m\u001b[0;32m    150\u001b[0m         \u001b[0mclasses_\u001b[0m \u001b[1;33m=\u001b[0m \u001b[0mself\u001b[0m\u001b[1;33m.\u001b[0m\u001b[0mclasses_\u001b[0m\u001b[1;33m\u001b[0m\u001b[1;33m\u001b[0m\u001b[0m\n\u001b[0;32m    151\u001b[0m         \u001b[0m_y\u001b[0m \u001b[1;33m=\u001b[0m \u001b[0mself\u001b[0m\u001b[1;33m.\u001b[0m\u001b[0m_y\u001b[0m\u001b[1;33m\u001b[0m\u001b[1;33m\u001b[0m\u001b[0m\n",
      "\u001b[1;32mC:\\Apps\\Anaconda3\\envs\\gpu-cuda10\\lib\\site-packages\\sklearn\\neighbors\\base.py\u001b[0m in \u001b[0;36mkneighbors\u001b[1;34m(self, X, n_neighbors, return_distance)\u001b[0m\n\u001b[0;32m    432\u001b[0m                 \u001b[0mX\u001b[0m\u001b[1;33m,\u001b[0m \u001b[0mself\u001b[0m\u001b[1;33m.\u001b[0m\u001b[0m_fit_X\u001b[0m\u001b[1;33m,\u001b[0m \u001b[0mreduce_func\u001b[0m\u001b[1;33m=\u001b[0m\u001b[0mreduce_func\u001b[0m\u001b[1;33m,\u001b[0m\u001b[1;33m\u001b[0m\u001b[1;33m\u001b[0m\u001b[0m\n\u001b[0;32m    433\u001b[0m                 \u001b[0mmetric\u001b[0m\u001b[1;33m=\u001b[0m\u001b[0mself\u001b[0m\u001b[1;33m.\u001b[0m\u001b[0meffective_metric_\u001b[0m\u001b[1;33m,\u001b[0m \u001b[0mn_jobs\u001b[0m\u001b[1;33m=\u001b[0m\u001b[0mn_jobs\u001b[0m\u001b[1;33m,\u001b[0m\u001b[1;33m\u001b[0m\u001b[1;33m\u001b[0m\u001b[0m\n\u001b[1;32m--> 434\u001b[1;33m                 **kwds))\n\u001b[0m\u001b[0;32m    435\u001b[0m \u001b[1;33m\u001b[0m\u001b[0m\n\u001b[0;32m    436\u001b[0m         \u001b[1;32melif\u001b[0m \u001b[0mself\u001b[0m\u001b[1;33m.\u001b[0m\u001b[0m_fit_method\u001b[0m \u001b[1;32min\u001b[0m \u001b[1;33m[\u001b[0m\u001b[1;34m'ball_tree'\u001b[0m\u001b[1;33m,\u001b[0m \u001b[1;34m'kd_tree'\u001b[0m\u001b[1;33m]\u001b[0m\u001b[1;33m:\u001b[0m\u001b[1;33m\u001b[0m\u001b[1;33m\u001b[0m\u001b[0m\n",
      "\u001b[1;32mC:\\Apps\\Anaconda3\\envs\\gpu-cuda10\\lib\\site-packages\\sklearn\\metrics\\pairwise.py\u001b[0m in \u001b[0;36mpairwise_distances_chunked\u001b[1;34m(X, Y, reduce_func, metric, n_jobs, working_memory, **kwds)\u001b[0m\n\u001b[0;32m   1446\u001b[0m             \u001b[0mX_chunk\u001b[0m \u001b[1;33m=\u001b[0m \u001b[0mX\u001b[0m\u001b[1;33m[\u001b[0m\u001b[0msl\u001b[0m\u001b[1;33m]\u001b[0m\u001b[1;33m\u001b[0m\u001b[1;33m\u001b[0m\u001b[0m\n\u001b[0;32m   1447\u001b[0m         D_chunk = pairwise_distances(X_chunk, Y, metric=metric,\n\u001b[1;32m-> 1448\u001b[1;33m                                      n_jobs=n_jobs, **kwds)\n\u001b[0m\u001b[0;32m   1449\u001b[0m         if ((X is Y or Y is None)\n\u001b[0;32m   1450\u001b[0m                 \u001b[1;32mand\u001b[0m \u001b[0mPAIRWISE_DISTANCE_FUNCTIONS\u001b[0m\u001b[1;33m.\u001b[0m\u001b[0mget\u001b[0m\u001b[1;33m(\u001b[0m\u001b[0mmetric\u001b[0m\u001b[1;33m,\u001b[0m \u001b[1;32mNone\u001b[0m\u001b[1;33m)\u001b[0m\u001b[1;33m\u001b[0m\u001b[1;33m\u001b[0m\u001b[0m\n",
      "\u001b[1;32mC:\\Apps\\Anaconda3\\envs\\gpu-cuda10\\lib\\site-packages\\sklearn\\metrics\\pairwise.py\u001b[0m in \u001b[0;36mpairwise_distances\u001b[1;34m(X, Y, metric, n_jobs, **kwds)\u001b[0m\n\u001b[0;32m   1586\u001b[0m         \u001b[0mfunc\u001b[0m \u001b[1;33m=\u001b[0m \u001b[0mpartial\u001b[0m\u001b[1;33m(\u001b[0m\u001b[0mdistance\u001b[0m\u001b[1;33m.\u001b[0m\u001b[0mcdist\u001b[0m\u001b[1;33m,\u001b[0m \u001b[0mmetric\u001b[0m\u001b[1;33m=\u001b[0m\u001b[0mmetric\u001b[0m\u001b[1;33m,\u001b[0m \u001b[1;33m**\u001b[0m\u001b[0mkwds\u001b[0m\u001b[1;33m)\u001b[0m\u001b[1;33m\u001b[0m\u001b[1;33m\u001b[0m\u001b[0m\n\u001b[0;32m   1587\u001b[0m \u001b[1;33m\u001b[0m\u001b[0m\n\u001b[1;32m-> 1588\u001b[1;33m     \u001b[1;32mreturn\u001b[0m \u001b[0m_parallel_pairwise\u001b[0m\u001b[1;33m(\u001b[0m\u001b[0mX\u001b[0m\u001b[1;33m,\u001b[0m \u001b[0mY\u001b[0m\u001b[1;33m,\u001b[0m \u001b[0mfunc\u001b[0m\u001b[1;33m,\u001b[0m \u001b[0mn_jobs\u001b[0m\u001b[1;33m,\u001b[0m \u001b[1;33m**\u001b[0m\u001b[0mkwds\u001b[0m\u001b[1;33m)\u001b[0m\u001b[1;33m\u001b[0m\u001b[1;33m\u001b[0m\u001b[0m\n\u001b[0m\u001b[0;32m   1589\u001b[0m \u001b[1;33m\u001b[0m\u001b[0m\n\u001b[0;32m   1590\u001b[0m \u001b[1;33m\u001b[0m\u001b[0m\n",
      "\u001b[1;32mC:\\Apps\\Anaconda3\\envs\\gpu-cuda10\\lib\\site-packages\\sklearn\\metrics\\pairwise.py\u001b[0m in \u001b[0;36m_parallel_pairwise\u001b[1;34m(X, Y, func, n_jobs, **kwds)\u001b[0m\n\u001b[0;32m   1204\u001b[0m \u001b[1;33m\u001b[0m\u001b[0m\n\u001b[0;32m   1205\u001b[0m     \u001b[1;32mif\u001b[0m \u001b[0meffective_n_jobs\u001b[0m\u001b[1;33m(\u001b[0m\u001b[0mn_jobs\u001b[0m\u001b[1;33m)\u001b[0m \u001b[1;33m==\u001b[0m \u001b[1;36m1\u001b[0m\u001b[1;33m:\u001b[0m\u001b[1;33m\u001b[0m\u001b[1;33m\u001b[0m\u001b[0m\n\u001b[1;32m-> 1206\u001b[1;33m         \u001b[1;32mreturn\u001b[0m \u001b[0mfunc\u001b[0m\u001b[1;33m(\u001b[0m\u001b[0mX\u001b[0m\u001b[1;33m,\u001b[0m \u001b[0mY\u001b[0m\u001b[1;33m,\u001b[0m \u001b[1;33m**\u001b[0m\u001b[0mkwds\u001b[0m\u001b[1;33m)\u001b[0m\u001b[1;33m\u001b[0m\u001b[1;33m\u001b[0m\u001b[0m\n\u001b[0m\u001b[0;32m   1207\u001b[0m \u001b[1;33m\u001b[0m\u001b[0m\n\u001b[0;32m   1208\u001b[0m     \u001b[1;31m# enforce a threading backend to prevent data communication overhead\u001b[0m\u001b[1;33m\u001b[0m\u001b[1;33m\u001b[0m\u001b[1;33m\u001b[0m\u001b[0m\n",
      "\u001b[1;32mC:\\Apps\\Anaconda3\\envs\\gpu-cuda10\\lib\\site-packages\\sklearn\\metrics\\pairwise.py\u001b[0m in \u001b[0;36meuclidean_distances\u001b[1;34m(X, Y, Y_norm_squared, squared, X_norm_squared)\u001b[0m\n\u001b[0;32m    272\u001b[0m         \u001b[1;31m# if dtype is already float64, no need to chunk and upcast\u001b[0m\u001b[1;33m\u001b[0m\u001b[1;33m\u001b[0m\u001b[1;33m\u001b[0m\u001b[0m\n\u001b[0;32m    273\u001b[0m         \u001b[0mdistances\u001b[0m \u001b[1;33m=\u001b[0m \u001b[1;33m-\u001b[0m \u001b[1;36m2\u001b[0m \u001b[1;33m*\u001b[0m \u001b[0msafe_sparse_dot\u001b[0m\u001b[1;33m(\u001b[0m\u001b[0mX\u001b[0m\u001b[1;33m,\u001b[0m \u001b[0mY\u001b[0m\u001b[1;33m.\u001b[0m\u001b[0mT\u001b[0m\u001b[1;33m,\u001b[0m \u001b[0mdense_output\u001b[0m\u001b[1;33m=\u001b[0m\u001b[1;32mTrue\u001b[0m\u001b[1;33m)\u001b[0m\u001b[1;33m\u001b[0m\u001b[1;33m\u001b[0m\u001b[0m\n\u001b[1;32m--> 274\u001b[1;33m         \u001b[0mdistances\u001b[0m \u001b[1;33m+=\u001b[0m \u001b[0mXX\u001b[0m\u001b[1;33m\u001b[0m\u001b[1;33m\u001b[0m\u001b[0m\n\u001b[0m\u001b[0;32m    275\u001b[0m         \u001b[0mdistances\u001b[0m \u001b[1;33m+=\u001b[0m \u001b[0mYY\u001b[0m\u001b[1;33m\u001b[0m\u001b[1;33m\u001b[0m\u001b[0m\n\u001b[0;32m    276\u001b[0m     \u001b[0mnp\u001b[0m\u001b[1;33m.\u001b[0m\u001b[0mmaximum\u001b[0m\u001b[1;33m(\u001b[0m\u001b[0mdistances\u001b[0m\u001b[1;33m,\u001b[0m \u001b[1;36m0\u001b[0m\u001b[1;33m,\u001b[0m \u001b[0mout\u001b[0m\u001b[1;33m=\u001b[0m\u001b[0mdistances\u001b[0m\u001b[1;33m)\u001b[0m\u001b[1;33m\u001b[0m\u001b[1;33m\u001b[0m\u001b[0m\n",
      "\u001b[1;31mKeyboardInterrupt\u001b[0m: "
     ]
    }
   ],
   "source": []
  },
  {
   "cell_type": "code",
   "execution_count": null,
   "metadata": {},
   "outputs": [],
   "source": []
  },
  {
   "cell_type": "code",
   "execution_count": null,
   "metadata": {},
   "outputs": [],
   "source": [
    "#plt.figure(figsize=(40,250))\n",
    "sns.factorplot(x=\"evaluation_type\", y=\"evaluation_value\", hue=\"algorithm_accuracy\",\n",
    "col=\"sentiment\", data=temp, kind=\"bar\", size=6, aspect=.8,legend=False)\n",
    "plt.legend(loc = 'line',title ='algorithm accuracy')\n",
    "#plt.grid(True)\n",
    "plt.show()"
   ]
  },
  {
   "cell_type": "code",
   "execution_count": null,
   "metadata": {},
   "outputs": [],
   "source": []
  },
  {
   "cell_type": "code",
   "execution_count": null,
   "metadata": {},
   "outputs": [],
   "source": []
  },
  {
   "cell_type": "code",
   "execution_count": null,
   "metadata": {},
   "outputs": [],
   "source": []
  },
  {
   "cell_type": "code",
   "execution_count": null,
   "metadata": {},
   "outputs": [],
   "source": []
  },
  {
   "cell_type": "code",
   "execution_count": null,
   "metadata": {},
   "outputs": [],
   "source": []
  },
  {
   "cell_type": "code",
   "execution_count": null,
   "metadata": {},
   "outputs": [],
   "source": []
  },
  {
   "cell_type": "code",
   "execution_count": null,
   "metadata": {},
   "outputs": [],
   "source": []
  },
  {
   "cell_type": "code",
   "execution_count": null,
   "metadata": {},
   "outputs": [],
   "source": [
    "Accuracy.append(accuracy)"
   ]
  },
  {
   "cell_type": "markdown",
   "metadata": {
    "_cell_guid": "131c9c37-3fab-dc5b-3615-ff06ccadafec"
   },
   "source": [
    "## Compare the model performances"
   ]
  },
  {
   "cell_type": "code",
   "execution_count": null,
   "metadata": {
    "_cell_guid": "59679456-286a-cfb3-a8d0-1895cd4af069"
   },
   "outputs": [],
   "source": [
    "Index = [1,2,3,4,5,6,7,8,9]\n",
    "plt.bar(Index,Accuracy,alpha=0.9, width = 0.6, \n",
    "        facecolor = 'green', edgecolor = 'white' )\n",
    "plt.xticks(Index, Model,rotation=90)\n",
    "plt.ylabel('Accuracy')\n",
    "plt.xlabel('Model')\n",
    "plt.title('Accuracies of Models')"
   ]
  },
  {
   "cell_type": "markdown",
   "metadata": {
    "_cell_guid": "2dfa7c03-4d88-4674-148f-2dcc6ad89b3e"
   },
   "source": []
  }
 ],
 "metadata": {
  "kernelspec": {
   "display_name": "Python 3",
   "language": "python",
   "name": "python3"
  },
  "language_info": {
   "codemirror_mode": {
    "name": "ipython",
    "version": 3
   },
   "file_extension": ".py",
   "mimetype": "text/x-python",
   "name": "python",
   "nbconvert_exporter": "python",
   "pygments_lexer": "ipython3",
   "version": "3.6.9"
  }
 },
 "nbformat": 4,
 "nbformat_minor": 4
}
